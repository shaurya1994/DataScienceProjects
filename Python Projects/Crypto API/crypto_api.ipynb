{
 "cells": [
  {
   "cell_type": "code",
   "execution_count": 2,
   "metadata": {},
   "outputs": [],
   "source": [
    "from requests import Request, Session\n",
    "from requests.exceptions import ConnectionError, Timeout, TooManyRedirects\n",
    "import json\n",
    "\n",
    "import pandas as pd"
   ]
  },
  {
   "cell_type": "code",
   "execution_count": 12,
   "metadata": {},
   "outputs": [],
   "source": [
    "# url = 'https://pro-api.coinmarketcap.com/v1/cryptocurrency/listings/latest'\n",
    "url = 'https://sandbox-api.coinmarketcap.com/v1/cryptocurrency/listings/latest'\n",
    "parameters = {\n",
    "  'start':'1',\n",
    "  'limit':'20',\n",
    "  # 'limit':'5000',\n",
    "  'convert':'USD'\n",
    "}\n",
    "headers = {\n",
    "  'Accepts': 'application/json',\n",
    "  'X-CMC_PRO_API_KEY': '68b16f0d-65f9-4565-85bb-a9de081c8084',\n",
    "}\n",
    "\n",
    "session = Session()\n",
    "session.headers.update(headers)\n",
    "\n",
    "try:\n",
    "  response = session.get(url, params=parameters)\n",
    "  data = json.loads(response.text)\n",
    "  # print(data)\n",
    "except (ConnectionError, Timeout, TooManyRedirects) as e:\n",
    "  print(e)"
   ]
  },
  {
   "cell_type": "code",
   "execution_count": 4,
   "metadata": {},
   "outputs": [
    {
     "data": {
      "text/plain": [
       "dict"
      ]
     },
     "execution_count": 4,
     "metadata": {},
     "output_type": "execute_result"
    }
   ],
   "source": [
    "type(data)"
   ]
  },
  {
   "cell_type": "code",
   "execution_count": 5,
   "metadata": {},
   "outputs": [],
   "source": [
    "pd.set_option('display.max_columns', None)"
   ]
  },
  {
   "cell_type": "code",
   "execution_count": 13,
   "metadata": {},
   "outputs": [],
   "source": [
    "df = pd.json_normalize(data['data'])\n",
    "df['timestamp'] = pd.to_datetime('now')"
   ]
  },
  {
   "cell_type": "code",
   "execution_count": 14,
   "metadata": {},
   "outputs": [
    {
     "data": {
      "text/html": [
       "<div>\n",
       "<style scoped>\n",
       "    .dataframe tbody tr th:only-of-type {\n",
       "        vertical-align: middle;\n",
       "    }\n",
       "\n",
       "    .dataframe tbody tr th {\n",
       "        vertical-align: top;\n",
       "    }\n",
       "\n",
       "    .dataframe thead th {\n",
       "        text-align: right;\n",
       "    }\n",
       "</style>\n",
       "<table border=\"1\" class=\"dataframe\">\n",
       "  <thead>\n",
       "    <tr style=\"text-align: right;\">\n",
       "      <th></th>\n",
       "      <th>id</th>\n",
       "      <th>name</th>\n",
       "      <th>symbol</th>\n",
       "      <th>slug</th>\n",
       "      <th>cmc_rank</th>\n",
       "      <th>num_market_pairs</th>\n",
       "      <th>circulating_supply</th>\n",
       "      <th>total_supply</th>\n",
       "      <th>max_supply</th>\n",
       "      <th>last_updated</th>\n",
       "      <th>date_added</th>\n",
       "      <th>tags</th>\n",
       "      <th>platform</th>\n",
       "      <th>self_reported_circulating_supply</th>\n",
       "      <th>self_reported_market_cap</th>\n",
       "      <th>quote.USD.price</th>\n",
       "      <th>quote.USD.volume_24h</th>\n",
       "      <th>quote.USD.volume_change_24h</th>\n",
       "      <th>quote.USD.percent_change_1h</th>\n",
       "      <th>quote.USD.percent_change_24h</th>\n",
       "      <th>quote.USD.percent_change_7d</th>\n",
       "      <th>quote.USD.market_cap</th>\n",
       "      <th>quote.USD.market_cap_dominance</th>\n",
       "      <th>quote.USD.fully_diluted_market_cap</th>\n",
       "      <th>quote.USD.last_updated</th>\n",
       "      <th>timestamp</th>\n",
       "    </tr>\n",
       "  </thead>\n",
       "  <tbody>\n",
       "    <tr>\n",
       "      <th>0</th>\n",
       "      <td>3920</td>\n",
       "      <td>cg5mhhjqco</td>\n",
       "      <td>88ivfxy2qr</td>\n",
       "      <td>q2cylk34z3</td>\n",
       "      <td>8382</td>\n",
       "      <td>6407</td>\n",
       "      <td>8357</td>\n",
       "      <td>5682</td>\n",
       "      <td>1495</td>\n",
       "      <td>2022-12-26T07:37:31.342Z</td>\n",
       "      <td>2022-12-26T07:37:31.342Z</td>\n",
       "      <td>[u6hm10vgmj, tx5xr101dmo, 6drdhfiz8u, n3fdsl2t...</td>\n",
       "      <td>None</td>\n",
       "      <td>None</td>\n",
       "      <td>None</td>\n",
       "      <td>0.591199</td>\n",
       "      <td>7106</td>\n",
       "      <td>0.126625</td>\n",
       "      <td>0.282630</td>\n",
       "      <td>0.236856</td>\n",
       "      <td>0.090215</td>\n",
       "      <td>0.283877</td>\n",
       "      <td>6642</td>\n",
       "      <td>0.188520</td>\n",
       "      <td>2022-12-26T07:37:31.342Z</td>\n",
       "      <td>2022-12-26 07:37:47.747379</td>\n",
       "    </tr>\n",
       "    <tr>\n",
       "      <th>1</th>\n",
       "      <td>417</td>\n",
       "      <td>wsx6nsie17p</td>\n",
       "      <td>sr8hgxvr11a</td>\n",
       "      <td>r6352qkuo2d</td>\n",
       "      <td>8460</td>\n",
       "      <td>3104</td>\n",
       "      <td>9699</td>\n",
       "      <td>3737</td>\n",
       "      <td>7951</td>\n",
       "      <td>2022-12-26T07:37:31.342Z</td>\n",
       "      <td>2022-12-26T07:37:31.342Z</td>\n",
       "      <td>[6pwwrcgccsu, qtuuhoipmaa, kvkvt62jts, 7mvd7jx...</td>\n",
       "      <td>None</td>\n",
       "      <td>None</td>\n",
       "      <td>None</td>\n",
       "      <td>0.738263</td>\n",
       "      <td>3517</td>\n",
       "      <td>0.705576</td>\n",
       "      <td>0.224871</td>\n",
       "      <td>0.401030</td>\n",
       "      <td>0.177816</td>\n",
       "      <td>0.841931</td>\n",
       "      <td>3672</td>\n",
       "      <td>0.906803</td>\n",
       "      <td>2022-12-26T07:37:31.342Z</td>\n",
       "      <td>2022-12-26 07:37:47.747379</td>\n",
       "    </tr>\n",
       "  </tbody>\n",
       "</table>\n",
       "</div>"
      ],
      "text/plain": [
       "     id         name       symbol         slug  cmc_rank  num_market_pairs  \\\n",
       "0  3920   cg5mhhjqco   88ivfxy2qr   q2cylk34z3      8382              6407   \n",
       "1   417  wsx6nsie17p  sr8hgxvr11a  r6352qkuo2d      8460              3104   \n",
       "\n",
       "   circulating_supply  total_supply  max_supply              last_updated  \\\n",
       "0                8357          5682        1495  2022-12-26T07:37:31.342Z   \n",
       "1                9699          3737        7951  2022-12-26T07:37:31.342Z   \n",
       "\n",
       "                 date_added  \\\n",
       "0  2022-12-26T07:37:31.342Z   \n",
       "1  2022-12-26T07:37:31.342Z   \n",
       "\n",
       "                                                tags platform  \\\n",
       "0  [u6hm10vgmj, tx5xr101dmo, 6drdhfiz8u, n3fdsl2t...     None   \n",
       "1  [6pwwrcgccsu, qtuuhoipmaa, kvkvt62jts, 7mvd7jx...     None   \n",
       "\n",
       "  self_reported_circulating_supply self_reported_market_cap  quote.USD.price  \\\n",
       "0                             None                     None         0.591199   \n",
       "1                             None                     None         0.738263   \n",
       "\n",
       "   quote.USD.volume_24h  quote.USD.volume_change_24h  \\\n",
       "0                  7106                     0.126625   \n",
       "1                  3517                     0.705576   \n",
       "\n",
       "   quote.USD.percent_change_1h  quote.USD.percent_change_24h  \\\n",
       "0                     0.282630                      0.236856   \n",
       "1                     0.224871                      0.401030   \n",
       "\n",
       "   quote.USD.percent_change_7d  quote.USD.market_cap  \\\n",
       "0                     0.090215              0.283877   \n",
       "1                     0.177816              0.841931   \n",
       "\n",
       "   quote.USD.market_cap_dominance  quote.USD.fully_diluted_market_cap  \\\n",
       "0                            6642                            0.188520   \n",
       "1                            3672                            0.906803   \n",
       "\n",
       "     quote.USD.last_updated                  timestamp  \n",
       "0  2022-12-26T07:37:31.342Z 2022-12-26 07:37:47.747379  \n",
       "1  2022-12-26T07:37:31.342Z 2022-12-26 07:37:47.747379  "
      ]
     },
     "execution_count": 14,
     "metadata": {},
     "output_type": "execute_result"
    }
   ],
   "source": [
    "df.head(2)"
   ]
  },
  {
   "cell_type": "code",
   "execution_count": 8,
   "metadata": {},
   "outputs": [],
   "source": [
    "def api_runner():\n",
    "    # url = 'https://pro-api.coinmarketcap.com/v1/cryptocurrency/listings/latest'\n",
    "    url = 'https://sandbox-api.coinmarketcap.com/v1/cryptocurrency/listings/latest'\n",
    "    parameters = {\n",
    "        'start':'1',\n",
    "        'limit':'20',\n",
    "        'convert':'USD'\n",
    "    }\n",
    "    headers = {\n",
    "        'Accepts': 'application/json',\n",
    "        'X-CMC_PRO_API_KEY': '68b16f0d-65f9-4565-85bb-a9de081c8084',\n",
    "    }\n",
    "\n",
    "    session = Session()\n",
    "    session.headers.update(headers)\n",
    "\n",
    "    try:\n",
    "        response = session.get(url, params=parameters)\n",
    "        data = json.loads(response.text)\n",
    "        # print(data)\n",
    "    except (ConnectionError, Timeout, TooManyRedirects) as e:\n",
    "        print(e)\n",
    "    \n",
    "    df2 = pd.json_normalize(data['data'])\n",
    "    df2['timestamp'] = pd.to_datetime('now')\n",
    "    df = df.append(df2)"
   ]
  },
  {
   "cell_type": "code",
   "execution_count": null,
   "metadata": {},
   "outputs": [],
   "source": []
  },
  {
   "cell_type": "code",
   "execution_count": 9,
   "metadata": {},
   "outputs": [],
   "source": [
    "df1 = pd.DataFrame({\"x\": [5, 2], \"y\": [4, 7], \"z\": [9, 3]})\n",
    "df2 = pd.DataFrame({\"x\": [1, 3], \"y\": [1, 9], \"z\": [29, 30]})\n",
    "\n",
    "# print \"Input DataFrame 1 is:\\n\", df1\n",
    "# print \"Input DataFrame 2 is:\\n\", df2\n",
    "\n",
    "df1 = df1.append(df2, ignore_index=True)\n",
    "\n",
    "# print \"After appending, DataFrame is: \\n\", df3"
   ]
  },
  {
   "cell_type": "code",
   "execution_count": 10,
   "metadata": {},
   "outputs": [
    {
     "data": {
      "text/html": [
       "<div>\n",
       "<style scoped>\n",
       "    .dataframe tbody tr th:only-of-type {\n",
       "        vertical-align: middle;\n",
       "    }\n",
       "\n",
       "    .dataframe tbody tr th {\n",
       "        vertical-align: top;\n",
       "    }\n",
       "\n",
       "    .dataframe thead th {\n",
       "        text-align: right;\n",
       "    }\n",
       "</style>\n",
       "<table border=\"1\" class=\"dataframe\">\n",
       "  <thead>\n",
       "    <tr style=\"text-align: right;\">\n",
       "      <th></th>\n",
       "      <th>x</th>\n",
       "      <th>y</th>\n",
       "      <th>z</th>\n",
       "    </tr>\n",
       "  </thead>\n",
       "  <tbody>\n",
       "    <tr>\n",
       "      <th>0</th>\n",
       "      <td>5</td>\n",
       "      <td>4</td>\n",
       "      <td>9</td>\n",
       "    </tr>\n",
       "    <tr>\n",
       "      <th>1</th>\n",
       "      <td>2</td>\n",
       "      <td>7</td>\n",
       "      <td>3</td>\n",
       "    </tr>\n",
       "    <tr>\n",
       "      <th>2</th>\n",
       "      <td>1</td>\n",
       "      <td>1</td>\n",
       "      <td>29</td>\n",
       "    </tr>\n",
       "    <tr>\n",
       "      <th>3</th>\n",
       "      <td>3</td>\n",
       "      <td>9</td>\n",
       "      <td>30</td>\n",
       "    </tr>\n",
       "  </tbody>\n",
       "</table>\n",
       "</div>"
      ],
      "text/plain": [
       "   x  y   z\n",
       "0  5  4   9\n",
       "1  2  7   3\n",
       "2  1  1  29\n",
       "3  3  9  30"
      ]
     },
     "execution_count": 10,
     "metadata": {},
     "output_type": "execute_result"
    }
   ],
   "source": [
    "df1.head()"
   ]
  },
  {
   "cell_type": "code",
   "execution_count": null,
   "metadata": {},
   "outputs": [],
   "source": []
  }
 ],
 "metadata": {
  "kernelspec": {
   "display_name": "tf-gpu",
   "language": "python",
   "name": "python3"
  },
  "language_info": {
   "codemirror_mode": {
    "name": "ipython",
    "version": 3
   },
   "file_extension": ".py",
   "mimetype": "text/x-python",
   "name": "python",
   "nbconvert_exporter": "python",
   "pygments_lexer": "ipython3",
   "version": "3.9.7"
  },
  "orig_nbformat": 4,
  "vscode": {
   "interpreter": {
    "hash": "87c12a83bb5f06aec570590579e70836bd996015778f1b32b20fd39c41670633"
   }
  }
 },
 "nbformat": 4,
 "nbformat_minor": 2
}
