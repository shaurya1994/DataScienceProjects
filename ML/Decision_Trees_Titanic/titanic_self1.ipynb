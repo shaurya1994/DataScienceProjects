{
 "cells": [
  {
   "cell_type": "code",
   "execution_count": 43,
   "metadata": {},
   "outputs": [],
   "source": [
    "import sys\n",
    "import numpy as np \n",
    "import pandas as pd \n",
    "\n",
    "from sklearn import preprocessing\n",
    "\n",
    "import matplotlib.pyplot as plt \n",
    "%matplotlib inline\n",
    "plt.rc(\"font\", size=14)\n",
    "\n",
    "import seaborn as sns\n",
    "sns.set(style='dark') #white background style for seaborn plots\n",
    "sns.set(style='darkgrid', color_codes=True)\n",
    "RED   = '\\033[1;31m'  \n",
    "BLUE  = '\\033[1;34m'\n",
    "CYAN  = '\\033[1;36m'\n",
    "GREEN = '\\033[0;32m'"
   ]
  },
  {
   "cell_type": "code",
   "execution_count": 44,
   "metadata": {},
   "outputs": [
    {
     "data": {
      "text/html": [
       "<div>\n",
       "<style scoped>\n",
       "    .dataframe tbody tr th:only-of-type {\n",
       "        vertical-align: middle;\n",
       "    }\n",
       "\n",
       "    .dataframe tbody tr th {\n",
       "        vertical-align: top;\n",
       "    }\n",
       "\n",
       "    .dataframe thead th {\n",
       "        text-align: right;\n",
       "    }\n",
       "</style>\n",
       "<table border=\"1\" class=\"dataframe\">\n",
       "  <thead>\n",
       "    <tr style=\"text-align: right;\">\n",
       "      <th></th>\n",
       "      <th>PassengerId</th>\n",
       "      <th>Survived</th>\n",
       "      <th>Pclass</th>\n",
       "      <th>Name</th>\n",
       "      <th>Sex</th>\n",
       "      <th>Age</th>\n",
       "      <th>SibSp</th>\n",
       "      <th>Parch</th>\n",
       "      <th>Ticket</th>\n",
       "      <th>Fare</th>\n",
       "      <th>Cabin</th>\n",
       "      <th>Embarked</th>\n",
       "    </tr>\n",
       "  </thead>\n",
       "  <tbody>\n",
       "    <tr>\n",
       "      <th>0</th>\n",
       "      <td>1</td>\n",
       "      <td>0</td>\n",
       "      <td>3</td>\n",
       "      <td>Braund, Mr. Owen Harris</td>\n",
       "      <td>male</td>\n",
       "      <td>22.0</td>\n",
       "      <td>1</td>\n",
       "      <td>0</td>\n",
       "      <td>A/5 21171</td>\n",
       "      <td>7.2500</td>\n",
       "      <td>NaN</td>\n",
       "      <td>S</td>\n",
       "    </tr>\n",
       "    <tr>\n",
       "      <th>1</th>\n",
       "      <td>2</td>\n",
       "      <td>1</td>\n",
       "      <td>1</td>\n",
       "      <td>Cumings, Mrs. John Bradley (Florence Briggs Th...</td>\n",
       "      <td>female</td>\n",
       "      <td>38.0</td>\n",
       "      <td>1</td>\n",
       "      <td>0</td>\n",
       "      <td>PC 17599</td>\n",
       "      <td>71.2833</td>\n",
       "      <td>C85</td>\n",
       "      <td>C</td>\n",
       "    </tr>\n",
       "    <tr>\n",
       "      <th>2</th>\n",
       "      <td>3</td>\n",
       "      <td>1</td>\n",
       "      <td>3</td>\n",
       "      <td>Heikkinen, Miss. Laina</td>\n",
       "      <td>female</td>\n",
       "      <td>26.0</td>\n",
       "      <td>0</td>\n",
       "      <td>0</td>\n",
       "      <td>STON/O2. 3101282</td>\n",
       "      <td>7.9250</td>\n",
       "      <td>NaN</td>\n",
       "      <td>S</td>\n",
       "    </tr>\n",
       "    <tr>\n",
       "      <th>3</th>\n",
       "      <td>4</td>\n",
       "      <td>1</td>\n",
       "      <td>1</td>\n",
       "      <td>Futrelle, Mrs. Jacques Heath (Lily May Peel)</td>\n",
       "      <td>female</td>\n",
       "      <td>35.0</td>\n",
       "      <td>1</td>\n",
       "      <td>0</td>\n",
       "      <td>113803</td>\n",
       "      <td>53.1000</td>\n",
       "      <td>C123</td>\n",
       "      <td>S</td>\n",
       "    </tr>\n",
       "    <tr>\n",
       "      <th>4</th>\n",
       "      <td>5</td>\n",
       "      <td>0</td>\n",
       "      <td>3</td>\n",
       "      <td>Allen, Mr. William Henry</td>\n",
       "      <td>male</td>\n",
       "      <td>35.0</td>\n",
       "      <td>0</td>\n",
       "      <td>0</td>\n",
       "      <td>373450</td>\n",
       "      <td>8.0500</td>\n",
       "      <td>NaN</td>\n",
       "      <td>S</td>\n",
       "    </tr>\n",
       "  </tbody>\n",
       "</table>\n",
       "</div>"
      ],
      "text/plain": [
       "   PassengerId  Survived  Pclass  \\\n",
       "0            1         0       3   \n",
       "1            2         1       1   \n",
       "2            3         1       3   \n",
       "3            4         1       1   \n",
       "4            5         0       3   \n",
       "\n",
       "                                                Name     Sex   Age  SibSp  \\\n",
       "0                            Braund, Mr. Owen Harris    male  22.0      1   \n",
       "1  Cumings, Mrs. John Bradley (Florence Briggs Th...  female  38.0      1   \n",
       "2                             Heikkinen, Miss. Laina  female  26.0      0   \n",
       "3       Futrelle, Mrs. Jacques Heath (Lily May Peel)  female  35.0      1   \n",
       "4                           Allen, Mr. William Henry    male  35.0      0   \n",
       "\n",
       "   Parch            Ticket     Fare Cabin Embarked  \n",
       "0      0         A/5 21171   7.2500   NaN        S  \n",
       "1      0          PC 17599  71.2833   C85        C  \n",
       "2      0  STON/O2. 3101282   7.9250   NaN        S  \n",
       "3      0            113803  53.1000  C123        S  \n",
       "4      0            373450   8.0500   NaN        S  "
      ]
     },
     "execution_count": 44,
     "metadata": {},
     "output_type": "execute_result"
    }
   ],
   "source": [
    "# Get titanic & test csv files as a DataFrame\n",
    "\n",
    "# Developmental data (train)\n",
    "train_df = pd.read_csv('train.csv')\n",
    "\n",
    "# Cross validation data (hold-out testing)\n",
    "test_df = pd.read_csv('test.csv')\n",
    "\n",
    "# Preview developmental data\n",
    "train_df.head(5)"
   ]
  },
  {
   "cell_type": "code",
   "execution_count": 45,
   "metadata": {},
   "outputs": [
    {
     "name": "stdout",
     "output_type": "stream",
     "text": [
      "<class 'pandas.core.frame.DataFrame'>\n",
      "RangeIndex: 891 entries, 0 to 890\n",
      "Data columns (total 12 columns):\n",
      " #   Column       Non-Null Count  Dtype  \n",
      "---  ------       --------------  -----  \n",
      " 0   PassengerId  891 non-null    int64  \n",
      " 1   Survived     891 non-null    int64  \n",
      " 2   Pclass       891 non-null    int64  \n",
      " 3   Name         891 non-null    object \n",
      " 4   Sex          891 non-null    object \n",
      " 5   Age          714 non-null    float64\n",
      " 6   SibSp        891 non-null    int64  \n",
      " 7   Parch        891 non-null    int64  \n",
      " 8   Ticket       891 non-null    object \n",
      " 9   Fare         891 non-null    float64\n",
      " 10  Cabin        204 non-null    object \n",
      " 11  Embarked     889 non-null    object \n",
      "dtypes: float64(2), int64(5), object(5)\n",
      "memory usage: 83.7+ KB\n"
     ]
    }
   ],
   "source": [
    "train_df.info()"
   ]
  },
  {
   "cell_type": "code",
   "execution_count": 46,
   "metadata": {},
   "outputs": [],
   "source": [
    "# train_df.isnull().any()\n",
    "# train_df.isnull().any().any()\n",
    "# train_df['Cabin'].isnull().sum()"
   ]
  },
  {
   "cell_type": "code",
   "execution_count": 47,
   "metadata": {},
   "outputs": [
    {
     "data": {
      "text/html": [
       "<div>\n",
       "<style scoped>\n",
       "    .dataframe tbody tr th:only-of-type {\n",
       "        vertical-align: middle;\n",
       "    }\n",
       "\n",
       "    .dataframe tbody tr th {\n",
       "        vertical-align: top;\n",
       "    }\n",
       "\n",
       "    .dataframe thead th {\n",
       "        text-align: right;\n",
       "    }\n",
       "</style>\n",
       "<table border=\"1\" class=\"dataframe\">\n",
       "  <thead>\n",
       "    <tr style=\"text-align: right;\">\n",
       "      <th></th>\n",
       "      <th>PassengerId</th>\n",
       "      <th>Pclass</th>\n",
       "      <th>Name</th>\n",
       "      <th>Sex</th>\n",
       "      <th>Age</th>\n",
       "      <th>SibSp</th>\n",
       "      <th>Parch</th>\n",
       "      <th>Ticket</th>\n",
       "      <th>Fare</th>\n",
       "      <th>Cabin</th>\n",
       "      <th>Embarked</th>\n",
       "    </tr>\n",
       "  </thead>\n",
       "  <tbody>\n",
       "    <tr>\n",
       "      <th>0</th>\n",
       "      <td>892</td>\n",
       "      <td>3</td>\n",
       "      <td>Kelly, Mr. James</td>\n",
       "      <td>male</td>\n",
       "      <td>34.5</td>\n",
       "      <td>0</td>\n",
       "      <td>0</td>\n",
       "      <td>330911</td>\n",
       "      <td>7.8292</td>\n",
       "      <td>NaN</td>\n",
       "      <td>Q</td>\n",
       "    </tr>\n",
       "    <tr>\n",
       "      <th>1</th>\n",
       "      <td>893</td>\n",
       "      <td>3</td>\n",
       "      <td>Wilkes, Mrs. James (Ellen Needs)</td>\n",
       "      <td>female</td>\n",
       "      <td>47.0</td>\n",
       "      <td>1</td>\n",
       "      <td>0</td>\n",
       "      <td>363272</td>\n",
       "      <td>7.0000</td>\n",
       "      <td>NaN</td>\n",
       "      <td>S</td>\n",
       "    </tr>\n",
       "    <tr>\n",
       "      <th>2</th>\n",
       "      <td>894</td>\n",
       "      <td>2</td>\n",
       "      <td>Myles, Mr. Thomas Francis</td>\n",
       "      <td>male</td>\n",
       "      <td>62.0</td>\n",
       "      <td>0</td>\n",
       "      <td>0</td>\n",
       "      <td>240276</td>\n",
       "      <td>9.6875</td>\n",
       "      <td>NaN</td>\n",
       "      <td>Q</td>\n",
       "    </tr>\n",
       "    <tr>\n",
       "      <th>3</th>\n",
       "      <td>895</td>\n",
       "      <td>3</td>\n",
       "      <td>Wirz, Mr. Albert</td>\n",
       "      <td>male</td>\n",
       "      <td>27.0</td>\n",
       "      <td>0</td>\n",
       "      <td>0</td>\n",
       "      <td>315154</td>\n",
       "      <td>8.6625</td>\n",
       "      <td>NaN</td>\n",
       "      <td>S</td>\n",
       "    </tr>\n",
       "    <tr>\n",
       "      <th>4</th>\n",
       "      <td>896</td>\n",
       "      <td>3</td>\n",
       "      <td>Hirvonen, Mrs. Alexander (Helga E Lindqvist)</td>\n",
       "      <td>female</td>\n",
       "      <td>22.0</td>\n",
       "      <td>1</td>\n",
       "      <td>1</td>\n",
       "      <td>3101298</td>\n",
       "      <td>12.2875</td>\n",
       "      <td>NaN</td>\n",
       "      <td>S</td>\n",
       "    </tr>\n",
       "  </tbody>\n",
       "</table>\n",
       "</div>"
      ],
      "text/plain": [
       "   PassengerId  Pclass                                          Name     Sex  \\\n",
       "0          892       3                              Kelly, Mr. James    male   \n",
       "1          893       3              Wilkes, Mrs. James (Ellen Needs)  female   \n",
       "2          894       2                     Myles, Mr. Thomas Francis    male   \n",
       "3          895       3                              Wirz, Mr. Albert    male   \n",
       "4          896       3  Hirvonen, Mrs. Alexander (Helga E Lindqvist)  female   \n",
       "\n",
       "    Age  SibSp  Parch   Ticket     Fare Cabin Embarked  \n",
       "0  34.5      0      0   330911   7.8292   NaN        Q  \n",
       "1  47.0      1      0   363272   7.0000   NaN        S  \n",
       "2  62.0      0      0   240276   9.6875   NaN        Q  \n",
       "3  27.0      0      0   315154   8.6625   NaN        S  \n",
       "4  22.0      1      1  3101298  12.2875   NaN        S  "
      ]
     },
     "execution_count": 47,
     "metadata": {},
     "output_type": "execute_result"
    }
   ],
   "source": [
    "test_df.head()"
   ]
  },
  {
   "cell_type": "code",
   "execution_count": 48,
   "metadata": {},
   "outputs": [
    {
     "name": "stdout",
     "output_type": "stream",
     "text": [
      "<class 'pandas.core.frame.DataFrame'>\n",
      "RangeIndex: 418 entries, 0 to 417\n",
      "Data columns (total 11 columns):\n",
      " #   Column       Non-Null Count  Dtype  \n",
      "---  ------       --------------  -----  \n",
      " 0   PassengerId  418 non-null    int64  \n",
      " 1   Pclass       418 non-null    int64  \n",
      " 2   Name         418 non-null    object \n",
      " 3   Sex          418 non-null    object \n",
      " 4   Age          332 non-null    float64\n",
      " 5   SibSp        418 non-null    int64  \n",
      " 6   Parch        418 non-null    int64  \n",
      " 7   Ticket       418 non-null    object \n",
      " 8   Fare         417 non-null    float64\n",
      " 9   Cabin        91 non-null     object \n",
      " 10  Embarked     418 non-null    object \n",
      "dtypes: float64(2), int64(4), object(5)\n",
      "memory usage: 36.0+ KB\n"
     ]
    }
   ],
   "source": [
    "test_df.info()"
   ]
  },
  {
   "cell_type": "markdown",
   "metadata": {},
   "source": [
    "## Data Quality & Missing Value Assessment"
   ]
  },
  {
   "cell_type": "markdown",
   "metadata": {},
   "source": [
    "### Age - Missing Values"
   ]
  },
  {
   "cell_type": "code",
   "execution_count": 49,
   "metadata": {},
   "outputs": [
    {
     "name": "stdout",
     "output_type": "stream",
     "text": [
      "\u001b[0;32mCount of missing values: 177, The Proportion of this values with dataset is 19.870\n",
      "\n",
      "Visualization AGE\n"
     ]
    },
    {
     "data": {
      "image/png": "[encoded data removed]",
      "text/plain": [
       "<Figure size 432x288 with 1 Axes>"
      ]
     },
     "metadata": {},
     "output_type": "display_data"
    }
   ],
   "source": [
    "a = sum(pd.isna(train_df.Age)) # Count missing values\n",
    "b = round(a/(len(train_df.PassengerId)), 4) # Proportion of 'Age' missing in percent\n",
    "sys.stdout.write(GREEN)\n",
    "# print('Count of missing values: {}, The Proportion of this values with dataset is {}\\n'.format(a, math.floor(x)(b*100)))\n",
    "# print('Count of missing values: {}, The Proportion of this values with dataset is {}\\n'.format(a, np.floor(b*100))) # Works for decimal too\n",
    "print('Count of missing values: {}, The Proportion of this values with dataset is {}\\n'.format(a, '%.3f' % (b*100))) \n",
    "print('Visualization AGE')\n",
    "ax = train_df['Age'].hist(bins=15, color='#34495e', alpha=0.9)\n",
    "ax.set(xlabel='Age', ylabel='Count')\n",
    "plt.show()"
   ]
  },
  {
   "cell_type": "markdown",
   "metadata": {},
   "source": [
    "## Since \"Age\" is (right) skewed, using the mean might give us biased results by filling in ages that are older than desired. To deal with this, we'll use the median to impute the missing values."
   ]
  },
  {
   "cell_type": "code",
   "execution_count": 50,
   "metadata": {},
   "outputs": [
    {
     "name": "stdout",
     "output_type": "stream",
     "text": [
      "\u001b[1;36mMedian: 28.0 and Mean: 29.699 | Median age is 28.0 as compared to mean which is ~30.0\n"
     ]
    }
   ],
   "source": [
    "m1 = train_df.Age.median(skipna=True)\n",
    "m2 = train_df.Age.mean(skipna=True)\n",
    "sys.stdout.write(CYAN)\n",
    "print('Median: {} and Mean: {} | Median age is {} as compared to mean which is ~{}'.format(m1, '%.3f' % (m2), m1, np.ceil(m2)))"
   ]
  },
  {
   "cell_type": "markdown",
   "metadata": {},
   "source": [
    "## Embarked - Missing Values"
   ]
  },
  {
   "cell_type": "code",
   "execution_count": 51,
   "metadata": {},
   "outputs": [
    {
     "name": "stdout",
     "output_type": "stream",
     "text": [
      "\u001b[1;36mCount of missing values: 2, Proportion of \"Embarked\" missing: 0.22\n"
     ]
    }
   ],
   "source": [
    "a = sum(pd.isna(train_df.Embarked)) # Count missing values\n",
    "b = round(a/len(train_df.PassengerId), 4) # Proportion of \"Embarked\" missing\n",
    "sys.stdout.write(CYAN)\n",
    "print('Count of missing values: {}, Proportion of \"Embarked\" missing: {}'.format(a, b*100))"
   ]
  },
  {
   "cell_type": "code",
   "execution_count": 52,
   "metadata": {},
   "outputs": [
    {
     "name": "stdout",
     "output_type": "stream",
     "text": [
      "\u001b[1;36mVisualization Embarked\n"
     ]
    },
    {
     "data": {
      "image/png": "[encoded data removed]",
      "text/plain": [
       "<Figure size 432x288 with 1 Axes>"
      ]
     },
     "metadata": {},
     "output_type": "display_data"
    }
   ],
   "source": [
    "sys.stdout.write(CYAN)\n",
    "print('Visualization Embarked')\n",
    "sns.countplot(x='Embarked', data=train_df, palette='Set1')\n",
    "plt.show()"
   ]
  },
  {
   "cell_type": "markdown",
   "metadata": {},
   "source": [
    "## Final Adjustments to Data (Train & Test) \n",
    "### Based on my assessment of the missing values in the dataset, Making the following changes to the data:\n",
    "\n",
    "### If \"Age\" is missing for a given row, Imputing with 28 (median age).\n",
    "\n",
    "### If \"Embark\" is missing for a given row, Imputing with \"S\" (the most common boarding port).\n",
    "\n",
    "### Ignoring \"Cabin\" as a variable. There are too many missing values for imputation. Based on the information available, it appears that this value is associated with         the passenger's class and fare paid."
   ]
  },
  {
   "cell_type": "code",
   "execution_count": 53,
   "metadata": {},
   "outputs": [],
   "source": [
    "# Imputing NaN Values\n",
    "train_df['Age'].fillna(28, inplace=True)\n",
    "train_df['Embarked'].fillna('S', inplace=True) \n",
    "train_df.drop('Cabin', axis=1, inplace=True)"
   ]
  },
  {
   "cell_type": "markdown",
   "metadata": {},
   "source": [
    "## Additional Variables \n",
    "### According to the Kaggle data dictionary, both SibSp and Parch relate to traveling with family. For simplicity's sake (and to account for possible multicollinearity), we will combine the effect of these variables into one categorical predictor: whether or not that individual was traveling alone."
   ]
  },
  {
   "cell_type": "code",
   "execution_count": 54,
   "metadata": {},
   "outputs": [
    {
     "data": {
      "text/html": [
       "<div>\n",
       "<style scoped>\n",
       "    .dataframe tbody tr th:only-of-type {\n",
       "        vertical-align: middle;\n",
       "    }\n",
       "\n",
       "    .dataframe tbody tr th {\n",
       "        vertical-align: top;\n",
       "    }\n",
       "\n",
       "    .dataframe thead th {\n",
       "        text-align: right;\n",
       "    }\n",
       "</style>\n",
       "<table border=\"1\" class=\"dataframe\">\n",
       "  <thead>\n",
       "    <tr style=\"text-align: right;\">\n",
       "      <th></th>\n",
       "      <th>PassengerId</th>\n",
       "      <th>Survived</th>\n",
       "      <th>Pclass</th>\n",
       "      <th>Name</th>\n",
       "      <th>Sex</th>\n",
       "      <th>Age</th>\n",
       "      <th>SibSp</th>\n",
       "      <th>Parch</th>\n",
       "      <th>Ticket</th>\n",
       "      <th>Fare</th>\n",
       "      <th>Embarked</th>\n",
       "    </tr>\n",
       "  </thead>\n",
       "  <tbody>\n",
       "    <tr>\n",
       "      <th>0</th>\n",
       "      <td>1</td>\n",
       "      <td>0</td>\n",
       "      <td>3</td>\n",
       "      <td>Braund, Mr. Owen Harris</td>\n",
       "      <td>male</td>\n",
       "      <td>22.0</td>\n",
       "      <td>1</td>\n",
       "      <td>0</td>\n",
       "      <td>A/5 21171</td>\n",
       "      <td>7.2500</td>\n",
       "      <td>S</td>\n",
       "    </tr>\n",
       "    <tr>\n",
       "      <th>1</th>\n",
       "      <td>2</td>\n",
       "      <td>1</td>\n",
       "      <td>1</td>\n",
       "      <td>Cumings, Mrs. John Bradley (Florence Briggs Th...</td>\n",
       "      <td>female</td>\n",
       "      <td>38.0</td>\n",
       "      <td>1</td>\n",
       "      <td>0</td>\n",
       "      <td>PC 17599</td>\n",
       "      <td>71.2833</td>\n",
       "      <td>C</td>\n",
       "    </tr>\n",
       "    <tr>\n",
       "      <th>2</th>\n",
       "      <td>3</td>\n",
       "      <td>1</td>\n",
       "      <td>3</td>\n",
       "      <td>Heikkinen, Miss. Laina</td>\n",
       "      <td>female</td>\n",
       "      <td>26.0</td>\n",
       "      <td>0</td>\n",
       "      <td>0</td>\n",
       "      <td>STON/O2. 3101282</td>\n",
       "      <td>7.9250</td>\n",
       "      <td>S</td>\n",
       "    </tr>\n",
       "    <tr>\n",
       "      <th>3</th>\n",
       "      <td>4</td>\n",
       "      <td>1</td>\n",
       "      <td>1</td>\n",
       "      <td>Futrelle, Mrs. Jacques Heath (Lily May Peel)</td>\n",
       "      <td>female</td>\n",
       "      <td>35.0</td>\n",
       "      <td>1</td>\n",
       "      <td>0</td>\n",
       "      <td>113803</td>\n",
       "      <td>53.1000</td>\n",
       "      <td>S</td>\n",
       "    </tr>\n",
       "    <tr>\n",
       "      <th>4</th>\n",
       "      <td>5</td>\n",
       "      <td>0</td>\n",
       "      <td>3</td>\n",
       "      <td>Allen, Mr. William Henry</td>\n",
       "      <td>male</td>\n",
       "      <td>35.0</td>\n",
       "      <td>0</td>\n",
       "      <td>0</td>\n",
       "      <td>373450</td>\n",
       "      <td>8.0500</td>\n",
       "      <td>S</td>\n",
       "    </tr>\n",
       "  </tbody>\n",
       "</table>\n",
       "</div>"
      ],
      "text/plain": [
       "   PassengerId  Survived  Pclass  \\\n",
       "0            1         0       3   \n",
       "1            2         1       1   \n",
       "2            3         1       3   \n",
       "3            4         1       1   \n",
       "4            5         0       3   \n",
       "\n",
       "                                                Name     Sex   Age  SibSp  \\\n",
       "0                            Braund, Mr. Owen Harris    male  22.0      1   \n",
       "1  Cumings, Mrs. John Bradley (Florence Briggs Th...  female  38.0      1   \n",
       "2                             Heikkinen, Miss. Laina  female  26.0      0   \n",
       "3       Futrelle, Mrs. Jacques Heath (Lily May Peel)  female  35.0      1   \n",
       "4                           Allen, Mr. William Henry    male  35.0      0   \n",
       "\n",
       "   Parch            Ticket     Fare Embarked  \n",
       "0      0         A/5 21171   7.2500        S  \n",
       "1      0          PC 17599  71.2833        C  \n",
       "2      0  STON/O2. 3101282   7.9250        S  \n",
       "3      0            113803  53.1000        S  \n",
       "4      0            373450   8.0500        S  "
      ]
     },
     "execution_count": 54,
     "metadata": {},
     "output_type": "execute_result"
    }
   ],
   "source": [
    "train_df.head()"
   ]
  },
  {
   "cell_type": "code",
   "execution_count": 55,
   "metadata": {},
   "outputs": [],
   "source": [
    "# Creating catrgorical variable travelling alone\n",
    "train_df['TravelBuds'] = train_df['SibSp'] + train_df['Parch']\n",
    "train_df['TravelAlone'] = np.where(train_df['TravelBuds'] > 0, 0, 1)"
   ]
  },
  {
   "cell_type": "code",
   "execution_count": 56,
   "metadata": {},
   "outputs": [
    {
     "data": {
      "text/html": [
       "<div>\n",
       "<style scoped>\n",
       "    .dataframe tbody tr th:only-of-type {\n",
       "        vertical-align: middle;\n",
       "    }\n",
       "\n",
       "    .dataframe tbody tr th {\n",
       "        vertical-align: top;\n",
       "    }\n",
       "\n",
       "    .dataframe thead th {\n",
       "        text-align: right;\n",
       "    }\n",
       "</style>\n",
       "<table border=\"1\" class=\"dataframe\">\n",
       "  <thead>\n",
       "    <tr style=\"text-align: right;\">\n",
       "      <th></th>\n",
       "      <th>PassengerId</th>\n",
       "      <th>Survived</th>\n",
       "      <th>Pclass</th>\n",
       "      <th>Name</th>\n",
       "      <th>Sex</th>\n",
       "      <th>Age</th>\n",
       "      <th>SibSp</th>\n",
       "      <th>Parch</th>\n",
       "      <th>Ticket</th>\n",
       "      <th>Fare</th>\n",
       "      <th>Embarked</th>\n",
       "      <th>TravelBuds</th>\n",
       "      <th>TravelAlone</th>\n",
       "    </tr>\n",
       "  </thead>\n",
       "  <tbody>\n",
       "    <tr>\n",
       "      <th>0</th>\n",
       "      <td>1</td>\n",
       "      <td>0</td>\n",
       "      <td>3</td>\n",
       "      <td>Braund, Mr. Owen Harris</td>\n",
       "      <td>male</td>\n",
       "      <td>22.0</td>\n",
       "      <td>1</td>\n",
       "      <td>0</td>\n",
       "      <td>A/5 21171</td>\n",
       "      <td>7.2500</td>\n",
       "      <td>S</td>\n",
       "      <td>1</td>\n",
       "      <td>0</td>\n",
       "    </tr>\n",
       "    <tr>\n",
       "      <th>1</th>\n",
       "      <td>2</td>\n",
       "      <td>1</td>\n",
       "      <td>1</td>\n",
       "      <td>Cumings, Mrs. John Bradley (Florence Briggs Th...</td>\n",
       "      <td>female</td>\n",
       "      <td>38.0</td>\n",
       "      <td>1</td>\n",
       "      <td>0</td>\n",
       "      <td>PC 17599</td>\n",
       "      <td>71.2833</td>\n",
       "      <td>C</td>\n",
       "      <td>1</td>\n",
       "      <td>0</td>\n",
       "    </tr>\n",
       "    <tr>\n",
       "      <th>2</th>\n",
       "      <td>3</td>\n",
       "      <td>1</td>\n",
       "      <td>3</td>\n",
       "      <td>Heikkinen, Miss. Laina</td>\n",
       "      <td>female</td>\n",
       "      <td>26.0</td>\n",
       "      <td>0</td>\n",
       "      <td>0</td>\n",
       "      <td>STON/O2. 3101282</td>\n",
       "      <td>7.9250</td>\n",
       "      <td>S</td>\n",
       "      <td>0</td>\n",
       "      <td>1</td>\n",
       "    </tr>\n",
       "    <tr>\n",
       "      <th>3</th>\n",
       "      <td>4</td>\n",
       "      <td>1</td>\n",
       "      <td>1</td>\n",
       "      <td>Futrelle, Mrs. Jacques Heath (Lily May Peel)</td>\n",
       "      <td>female</td>\n",
       "      <td>35.0</td>\n",
       "      <td>1</td>\n",
       "      <td>0</td>\n",
       "      <td>113803</td>\n",
       "      <td>53.1000</td>\n",
       "      <td>S</td>\n",
       "      <td>1</td>\n",
       "      <td>0</td>\n",
       "    </tr>\n",
       "    <tr>\n",
       "      <th>4</th>\n",
       "      <td>5</td>\n",
       "      <td>0</td>\n",
       "      <td>3</td>\n",
       "      <td>Allen, Mr. William Henry</td>\n",
       "      <td>male</td>\n",
       "      <td>35.0</td>\n",
       "      <td>0</td>\n",
       "      <td>0</td>\n",
       "      <td>373450</td>\n",
       "      <td>8.0500</td>\n",
       "      <td>S</td>\n",
       "      <td>0</td>\n",
       "      <td>1</td>\n",
       "    </tr>\n",
       "  </tbody>\n",
       "</table>\n",
       "</div>"
      ],
      "text/plain": [
       "   PassengerId  Survived  Pclass  \\\n",
       "0            1         0       3   \n",
       "1            2         1       1   \n",
       "2            3         1       3   \n",
       "3            4         1       1   \n",
       "4            5         0       3   \n",
       "\n",
       "                                                Name     Sex   Age  SibSp  \\\n",
       "0                            Braund, Mr. Owen Harris    male  22.0      1   \n",
       "1  Cumings, Mrs. John Bradley (Florence Briggs Th...  female  38.0      1   \n",
       "2                             Heikkinen, Miss. Laina  female  26.0      0   \n",
       "3       Futrelle, Mrs. Jacques Heath (Lily May Peel)  female  35.0      1   \n",
       "4                           Allen, Mr. William Henry    male  35.0      0   \n",
       "\n",
       "   Parch            Ticket     Fare Embarked  TravelBuds  TravelAlone  \n",
       "0      0         A/5 21171   7.2500        S           1            0  \n",
       "1      0          PC 17599  71.2833        C           1            0  \n",
       "2      0  STON/O2. 3101282   7.9250        S           0            1  \n",
       "3      0            113803  53.1000        S           1            0  \n",
       "4      0            373450   8.0500        S           0            1  "
      ]
     },
     "execution_count": 56,
     "metadata": {},
     "output_type": "execute_result"
    }
   ],
   "source": [
    "train_df.head()"
   ]
  },
  {
   "cell_type": "code",
   "execution_count": 57,
   "metadata": {},
   "outputs": [],
   "source": [
    "train_df.drop('SibSp', axis=1, inplace=True)\n",
    "train_df.drop('Parch', axis=1, inplace=True)\n",
    "train_df.drop('TravelBuds', axis=1, inplace=True)"
   ]
  },
  {
   "cell_type": "code",
   "execution_count": 58,
   "metadata": {},
   "outputs": [
    {
     "data": {
      "text/html": [
       "<div>\n",
       "<style scoped>\n",
       "    .dataframe tbody tr th:only-of-type {\n",
       "        vertical-align: middle;\n",
       "    }\n",
       "\n",
       "    .dataframe tbody tr th {\n",
       "        vertical-align: top;\n",
       "    }\n",
       "\n",
       "    .dataframe thead th {\n",
       "        text-align: right;\n",
       "    }\n",
       "</style>\n",
       "<table border=\"1\" class=\"dataframe\">\n",
       "  <thead>\n",
       "    <tr style=\"text-align: right;\">\n",
       "      <th></th>\n",
       "      <th>PassengerId</th>\n",
       "      <th>Survived</th>\n",
       "      <th>Pclass</th>\n",
       "      <th>Name</th>\n",
       "      <th>Sex</th>\n",
       "      <th>Age</th>\n",
       "      <th>Ticket</th>\n",
       "      <th>Fare</th>\n",
       "      <th>Embarked</th>\n",
       "      <th>TravelAlone</th>\n",
       "    </tr>\n",
       "  </thead>\n",
       "  <tbody>\n",
       "    <tr>\n",
       "      <th>0</th>\n",
       "      <td>1</td>\n",
       "      <td>0</td>\n",
       "      <td>3</td>\n",
       "      <td>Braund, Mr. Owen Harris</td>\n",
       "      <td>male</td>\n",
       "      <td>22.0</td>\n",
       "      <td>A/5 21171</td>\n",
       "      <td>7.2500</td>\n",
       "      <td>S</td>\n",
       "      <td>0</td>\n",
       "    </tr>\n",
       "    <tr>\n",
       "      <th>1</th>\n",
       "      <td>2</td>\n",
       "      <td>1</td>\n",
       "      <td>1</td>\n",
       "      <td>Cumings, Mrs. John Bradley (Florence Briggs Th...</td>\n",
       "      <td>female</td>\n",
       "      <td>38.0</td>\n",
       "      <td>PC 17599</td>\n",
       "      <td>71.2833</td>\n",
       "      <td>C</td>\n",
       "      <td>0</td>\n",
       "    </tr>\n",
       "    <tr>\n",
       "      <th>2</th>\n",
       "      <td>3</td>\n",
       "      <td>1</td>\n",
       "      <td>3</td>\n",
       "      <td>Heikkinen, Miss. Laina</td>\n",
       "      <td>female</td>\n",
       "      <td>26.0</td>\n",
       "      <td>STON/O2. 3101282</td>\n",
       "      <td>7.9250</td>\n",
       "      <td>S</td>\n",
       "      <td>1</td>\n",
       "    </tr>\n",
       "    <tr>\n",
       "      <th>3</th>\n",
       "      <td>4</td>\n",
       "      <td>1</td>\n",
       "      <td>1</td>\n",
       "      <td>Futrelle, Mrs. Jacques Heath (Lily May Peel)</td>\n",
       "      <td>female</td>\n",
       "      <td>35.0</td>\n",
       "      <td>113803</td>\n",
       "      <td>53.1000</td>\n",
       "      <td>S</td>\n",
       "      <td>0</td>\n",
       "    </tr>\n",
       "    <tr>\n",
       "      <th>4</th>\n",
       "      <td>5</td>\n",
       "      <td>0</td>\n",
       "      <td>3</td>\n",
       "      <td>Allen, Mr. William Henry</td>\n",
       "      <td>male</td>\n",
       "      <td>35.0</td>\n",
       "      <td>373450</td>\n",
       "      <td>8.0500</td>\n",
       "      <td>S</td>\n",
       "      <td>1</td>\n",
       "    </tr>\n",
       "  </tbody>\n",
       "</table>\n",
       "</div>"
      ],
      "text/plain": [
       "   PassengerId  Survived  Pclass  \\\n",
       "0            1         0       3   \n",
       "1            2         1       1   \n",
       "2            3         1       3   \n",
       "3            4         1       1   \n",
       "4            5         0       3   \n",
       "\n",
       "                                                Name     Sex   Age  \\\n",
       "0                            Braund, Mr. Owen Harris    male  22.0   \n",
       "1  Cumings, Mrs. John Bradley (Florence Briggs Th...  female  38.0   \n",
       "2                             Heikkinen, Miss. Laina  female  26.0   \n",
       "3       Futrelle, Mrs. Jacques Heath (Lily May Peel)  female  35.0   \n",
       "4                           Allen, Mr. William Henry    male  35.0   \n",
       "\n",
       "             Ticket     Fare Embarked  TravelAlone  \n",
       "0         A/5 21171   7.2500        S            0  \n",
       "1          PC 17599  71.2833        C            0  \n",
       "2  STON/O2. 3101282   7.9250        S            1  \n",
       "3            113803  53.1000        S            0  \n",
       "4            373450   8.0500        S            1  "
      ]
     },
     "execution_count": 58,
     "metadata": {},
     "output_type": "execute_result"
    }
   ],
   "source": [
    "train_df.head()"
   ]
  },
  {
   "cell_type": "code",
   "execution_count": 59,
   "metadata": {},
   "outputs": [],
   "source": [
    "# Create categorical variable for Pclass, Embarked and Sex || ONE HOT ENCODING\n",
    "train2 = pd.get_dummies(train_df, columns=['Pclass'])\n",
    "train3 = pd.get_dummies(train2, columns=['Embarked'])\n",
    "train4 = pd.get_dummies(train3, columns=['Sex'], drop_first=True)\n",
    "# train4.drop('Sex_female', axis=1, inplace=True)\n",
    "\n",
    "# Drop Unwanted\n",
    "train4.drop('PassengerId', axis=1, inplace=True)\n",
    "train4.drop('Name', axis=1, inplace=True)\n",
    "train4.drop('Ticket', axis=1, inplace=True)\n",
    "df_final = train4"
   ]
  },
  {
   "cell_type": "code",
   "execution_count": 60,
   "metadata": {},
   "outputs": [],
   "source": [
    "final_train = df_final "
   ]
  },
  {
   "cell_type": "code",
   "execution_count": 61,
   "metadata": {},
   "outputs": [
    {
     "data": {
      "text/html": [
       "<div>\n",
       "<style scoped>\n",
       "    .dataframe tbody tr th:only-of-type {\n",
       "        vertical-align: middle;\n",
       "    }\n",
       "\n",
       "    .dataframe tbody tr th {\n",
       "        vertical-align: top;\n",
       "    }\n",
       "\n",
       "    .dataframe thead th {\n",
       "        text-align: right;\n",
       "    }\n",
       "</style>\n",
       "<table border=\"1\" class=\"dataframe\">\n",
       "  <thead>\n",
       "    <tr style=\"text-align: right;\">\n",
       "      <th></th>\n",
       "      <th>Survived</th>\n",
       "      <th>Age</th>\n",
       "      <th>Fare</th>\n",
       "      <th>TravelAlone</th>\n",
       "      <th>Pclass_1</th>\n",
       "      <th>Pclass_2</th>\n",
       "      <th>Pclass_3</th>\n",
       "      <th>Embarked_C</th>\n",
       "      <th>Embarked_Q</th>\n",
       "      <th>Embarked_S</th>\n",
       "      <th>Sex_male</th>\n",
       "    </tr>\n",
       "  </thead>\n",
       "  <tbody>\n",
       "    <tr>\n",
       "      <th>0</th>\n",
       "      <td>0</td>\n",
       "      <td>22.0</td>\n",
       "      <td>7.2500</td>\n",
       "      <td>0</td>\n",
       "      <td>0</td>\n",
       "      <td>0</td>\n",
       "      <td>1</td>\n",
       "      <td>0</td>\n",
       "      <td>0</td>\n",
       "      <td>1</td>\n",
       "      <td>1</td>\n",
       "    </tr>\n",
       "    <tr>\n",
       "      <th>1</th>\n",
       "      <td>1</td>\n",
       "      <td>38.0</td>\n",
       "      <td>71.2833</td>\n",
       "      <td>0</td>\n",
       "      <td>1</td>\n",
       "      <td>0</td>\n",
       "      <td>0</td>\n",
       "      <td>1</td>\n",
       "      <td>0</td>\n",
       "      <td>0</td>\n",
       "      <td>0</td>\n",
       "    </tr>\n",
       "    <tr>\n",
       "      <th>2</th>\n",
       "      <td>1</td>\n",
       "      <td>26.0</td>\n",
       "      <td>7.9250</td>\n",
       "      <td>1</td>\n",
       "      <td>0</td>\n",
       "      <td>0</td>\n",
       "      <td>1</td>\n",
       "      <td>0</td>\n",
       "      <td>0</td>\n",
       "      <td>1</td>\n",
       "      <td>0</td>\n",
       "    </tr>\n",
       "    <tr>\n",
       "      <th>3</th>\n",
       "      <td>1</td>\n",
       "      <td>35.0</td>\n",
       "      <td>53.1000</td>\n",
       "      <td>0</td>\n",
       "      <td>1</td>\n",
       "      <td>0</td>\n",
       "      <td>0</td>\n",
       "      <td>0</td>\n",
       "      <td>0</td>\n",
       "      <td>1</td>\n",
       "      <td>0</td>\n",
       "    </tr>\n",
       "    <tr>\n",
       "      <th>4</th>\n",
       "      <td>0</td>\n",
       "      <td>35.0</td>\n",
       "      <td>8.0500</td>\n",
       "      <td>1</td>\n",
       "      <td>0</td>\n",
       "      <td>0</td>\n",
       "      <td>1</td>\n",
       "      <td>0</td>\n",
       "      <td>0</td>\n",
       "      <td>1</td>\n",
       "      <td>1</td>\n",
       "    </tr>\n",
       "  </tbody>\n",
       "</table>\n",
       "</div>"
      ],
      "text/plain": [
       "   Survived   Age     Fare  TravelAlone  Pclass_1  Pclass_2  Pclass_3  \\\n",
       "0         0  22.0   7.2500            0         0         0         1   \n",
       "1         1  38.0  71.2833            0         1         0         0   \n",
       "2         1  26.0   7.9250            1         0         0         1   \n",
       "3         1  35.0  53.1000            0         1         0         0   \n",
       "4         0  35.0   8.0500            1         0         0         1   \n",
       "\n",
       "   Embarked_C  Embarked_Q  Embarked_S  Sex_male  \n",
       "0           0           0           1         1  \n",
       "1           1           0           0         0  \n",
       "2           0           0           1         0  \n",
       "3           0           0           1         0  \n",
       "4           0           0           1         1  "
      ]
     },
     "execution_count": 61,
     "metadata": {},
     "output_type": "execute_result"
    }
   ],
   "source": [
    "final_train.head()"
   ]
  },
  {
   "cell_type": "markdown",
   "metadata": {},
   "source": [
    "#### Apply the same changes to the test data. "
   ]
  },
  {
   "cell_type": "code",
   "execution_count": 62,
   "metadata": {},
   "outputs": [],
   "source": [
    "test_df['Age'].fillna(28, inplace=True)\n",
    "test_df['Fare'].fillna(test_df['Fare'].median(), inplace=True)\n",
    "test_df.drop('Cabin', axis=1, inplace=True)"
   ]
  },
  {
   "cell_type": "code",
   "execution_count": 63,
   "metadata": {},
   "outputs": [],
   "source": [
    "test_df['TravelBuds'] = test_df['SibSp'] + test_df['Parch']\n",
    "test_df['TravelAlone'] = np.where(test_df['TravelBuds'] > 0, 0, 1)\n",
    "\n",
    "test_df.drop('SibSp', axis=1, inplace=True)\n",
    "test_df.drop('Parch', axis=1, inplace=True)\n",
    "test_df.drop('TravelBuds', axis=1, inplace=True)\n",
    "\n",
    "test2 = pd.get_dummies(test_df, columns=['Pclass'])\n",
    "test3 = pd.get_dummies(test2, columns=['Embarked'])\n",
    "\n",
    "test4=pd.get_dummies(test3, columns=['Sex'], drop_first=True)\n",
    "# test4.drop('Sex_female', axis=1, inplace=True)\n",
    "\n",
    "test4.drop('PassengerId', axis=1, inplace=True)\n",
    "test4.drop('Name', axis=1, inplace=True)\n",
    "test4.drop('Ticket', axis=1, inplace=True)\n",
    "final_test = test4"
   ]
  },
  {
   "cell_type": "code",
   "execution_count": 64,
   "metadata": {},
   "outputs": [
    {
     "data": {
      "text/html": [
       "<div>\n",
       "<style scoped>\n",
       "    .dataframe tbody tr th:only-of-type {\n",
       "        vertical-align: middle;\n",
       "    }\n",
       "\n",
       "    .dataframe tbody tr th {\n",
       "        vertical-align: top;\n",
       "    }\n",
       "\n",
       "    .dataframe thead th {\n",
       "        text-align: right;\n",
       "    }\n",
       "</style>\n",
       "<table border=\"1\" class=\"dataframe\">\n",
       "  <thead>\n",
       "    <tr style=\"text-align: right;\">\n",
       "      <th></th>\n",
       "      <th>Age</th>\n",
       "      <th>Fare</th>\n",
       "      <th>TravelAlone</th>\n",
       "      <th>Pclass_1</th>\n",
       "      <th>Pclass_2</th>\n",
       "      <th>Pclass_3</th>\n",
       "      <th>Embarked_C</th>\n",
       "      <th>Embarked_Q</th>\n",
       "      <th>Embarked_S</th>\n",
       "      <th>Sex_male</th>\n",
       "    </tr>\n",
       "  </thead>\n",
       "  <tbody>\n",
       "    <tr>\n",
       "      <th>0</th>\n",
       "      <td>34.5</td>\n",
       "      <td>7.8292</td>\n",
       "      <td>1</td>\n",
       "      <td>0</td>\n",
       "      <td>0</td>\n",
       "      <td>1</td>\n",
       "      <td>0</td>\n",
       "      <td>1</td>\n",
       "      <td>0</td>\n",
       "      <td>1</td>\n",
       "    </tr>\n",
       "    <tr>\n",
       "      <th>1</th>\n",
       "      <td>47.0</td>\n",
       "      <td>7.0000</td>\n",
       "      <td>0</td>\n",
       "      <td>0</td>\n",
       "      <td>0</td>\n",
       "      <td>1</td>\n",
       "      <td>0</td>\n",
       "      <td>0</td>\n",
       "      <td>1</td>\n",
       "      <td>0</td>\n",
       "    </tr>\n",
       "    <tr>\n",
       "      <th>2</th>\n",
       "      <td>62.0</td>\n",
       "      <td>9.6875</td>\n",
       "      <td>1</td>\n",
       "      <td>0</td>\n",
       "      <td>1</td>\n",
       "      <td>0</td>\n",
       "      <td>0</td>\n",
       "      <td>1</td>\n",
       "      <td>0</td>\n",
       "      <td>1</td>\n",
       "    </tr>\n",
       "    <tr>\n",
       "      <th>3</th>\n",
       "      <td>27.0</td>\n",
       "      <td>8.6625</td>\n",
       "      <td>1</td>\n",
       "      <td>0</td>\n",
       "      <td>0</td>\n",
       "      <td>1</td>\n",
       "      <td>0</td>\n",
       "      <td>0</td>\n",
       "      <td>1</td>\n",
       "      <td>1</td>\n",
       "    </tr>\n",
       "    <tr>\n",
       "      <th>4</th>\n",
       "      <td>22.0</td>\n",
       "      <td>12.2875</td>\n",
       "      <td>0</td>\n",
       "      <td>0</td>\n",
       "      <td>0</td>\n",
       "      <td>1</td>\n",
       "      <td>0</td>\n",
       "      <td>0</td>\n",
       "      <td>1</td>\n",
       "      <td>0</td>\n",
       "    </tr>\n",
       "  </tbody>\n",
       "</table>\n",
       "</div>"
      ],
      "text/plain": [
       "    Age     Fare  TravelAlone  Pclass_1  Pclass_2  Pclass_3  Embarked_C  \\\n",
       "0  34.5   7.8292            1         0         0         1           0   \n",
       "1  47.0   7.0000            0         0         0         1           0   \n",
       "2  62.0   9.6875            1         0         1         0           0   \n",
       "3  27.0   8.6625            1         0         0         1           0   \n",
       "4  22.0  12.2875            0         0         0         1           0   \n",
       "\n",
       "   Embarked_Q  Embarked_S  Sex_male  \n",
       "0           1           0         1  \n",
       "1           0           1         0  \n",
       "2           1           0         1  \n",
       "3           0           1         1  \n",
       "4           0           1         0  "
      ]
     },
     "execution_count": 64,
     "metadata": {},
     "output_type": "execute_result"
    }
   ],
   "source": [
    "final_test.head()"
   ]
  },
  {
   "cell_type": "markdown",
   "metadata": {},
   "source": [
    "## Exploratory Data Analysis"
   ]
  },
  {
   "cell_type": "code",
   "execution_count": 65,
   "metadata": {},
   "outputs": [
    {
     "name": "stdout",
     "output_type": "stream",
     "text": [
      "\u001b[0;32mDensity Plot of Age for Surviving Population and Deceased Population\n"
     ]
    },
    {
     "data": {
      "image/png": "[encoded data removed]",
      "text/plain": [
       "<Figure size 1080x576 with 1 Axes>"
      ]
     },
     "metadata": {},
     "output_type": "display_data"
    }
   ],
   "source": [
    "sys.stdout.write(GREEN)\n",
    "print(\"Density Plot of Age for Surviving Population and Deceased Population\")\n",
    "plt.figure(figsize=(15,8))\n",
    "sns.kdeplot(final_train.Age[final_train.Survived == 1], color='darkturquoise', shade=True)\n",
    "sns.kdeplot(final_train.Age[final_train.Survived == 0], color='lightcoral', shade=True)\n",
    "plt.legend(['Survived', 'Died'])\n",
    "plt.title('Density Plot of Age for Surviving Population and Deceased Population')\n",
    "plt.show()"
   ]
  },
  {
   "cell_type": "markdown",
   "metadata": {},
   "source": [
    "## The age distribution for survivors and deceased is actually very similar. One notable difference is that, of the survivors, a larger proportion were children. The passengers evidently made an attempt to save children by giving them a place on the life rafts."
   ]
  },
  {
   "cell_type": "code",
   "execution_count": 66,
   "metadata": {},
   "outputs": [
    {
     "data": {
      "image/png": "[encoded data removed]",
      "text/plain": [
       "<Figure size 2520x576 with 1 Axes>"
      ]
     },
     "metadata": {},
     "output_type": "display_data"
    }
   ],
   "source": [
    "plt.figure(figsize=(35,8))\n",
    "avg_survival_by_age = final_train[['Age', 'Survived']].groupby(['Age'], as_index=False).mean()\n",
    "g = sns.barplot(x='Age', y='Survived', data=avg_survival_by_age, color='LightSeaGreen')"
   ]
  },
  {
   "cell_type": "markdown",
   "metadata": {},
   "source": [
    "## Considering the survival rate of passengers under 16, We will also include another categorical variable in the dataset: \"Minor\""
   ]
  },
  {
   "cell_type": "code",
   "execution_count": 67,
   "metadata": {},
   "outputs": [
    {
     "data": {
      "text/plain": [
       "2"
      ]
     },
     "execution_count": 67,
     "metadata": {},
     "output_type": "execute_result"
    }
   ],
   "source": [
    "(final_train['Age'] == 63).sum()"
   ]
  },
  {
   "cell_type": "code",
   "execution_count": 68,
   "metadata": {},
   "outputs": [],
   "source": [
    "final_train['IsMinor'] = np.where(final_train['Age'] <= 16, 1, 0)\n",
    "final_test['IsMinor'] = np.where(final_test['Age'] <= 16, 1, 0)"
   ]
  },
  {
   "cell_type": "markdown",
   "metadata": {},
   "source": [
    "## Exploration of Fare Data"
   ]
  },
  {
   "cell_type": "code",
   "execution_count": 69,
   "metadata": {},
   "outputs": [
    {
     "data": {
      "image/png": "[encoded data removed]",
      "text/plain": [
       "<Figure size 1080x576 with 1 Axes>"
      ]
     },
     "metadata": {},
     "output_type": "display_data"
    }
   ],
   "source": [
    "plt.figure(figsize=(15,8))\n",
    "sns.kdeplot(final_train['Fare'][final_train.Survived == 1], color='#e74c3c', shade=True)\n",
    "sns.kdeplot(final_train['Fare'][final_train.Survived == 0], color='#3498db', shade=True)\n",
    "plt.legend(['Survived', 'Died'])\n",
    "plt.title('Density Plot of Fare for Surviving Population and Deceased Population')\n",
    "# Limit x axis to zoom on most information. There are a few outliers in fare. \n",
    "# plt.xlabel = 'Fare'\n",
    "# plt.ylabel = 'Survived'\n",
    "plt.xlim(-20,200)\n",
    "plt.show()"
   ]
  },
  {
   "cell_type": "markdown",
   "metadata": {},
   "source": [
    "## Exploration of Passenger Class"
   ]
  },
  {
   "cell_type": "code",
   "execution_count": 70,
   "metadata": {},
   "outputs": [
    {
     "name": "stderr",
     "output_type": "stream",
     "text": [
      "c:\\Users\\shaur\\anaconda3\\envs\\tf-gpu\\lib\\site-packages\\seaborn\\_decorators.py:36: FutureWarning: Pass the following variables as keyword args: x, y. From version 0.12, the only valid positional argument will be `data`, and passing other arguments without an explicit keyword will result in an error or misinterpretation.\n",
      "  warnings.warn(\n"
     ]
    },
    {
     "data": {
      "image/png": "[encoded data removed]",
      "text/plain": [
       "<Figure size 432x288 with 1 Axes>"
      ]
     },
     "metadata": {},
     "output_type": "display_data"
    }
   ],
   "source": [
    "sns.barplot('Pclass', 'Survived', data=train_df, color=\"#2ecc71\")\n",
    "plt.show()"
   ]
  },
  {
   "cell_type": "markdown",
   "metadata": {},
   "source": [
    "## Unsurprisingly, being a first class passenger was safest."
   ]
  },
  {
   "cell_type": "markdown",
   "metadata": {},
   "source": [
    "## Exploration of Embarked Port"
   ]
  },
  {
   "cell_type": "code",
   "execution_count": 71,
   "metadata": {},
   "outputs": [
    {
     "name": "stderr",
     "output_type": "stream",
     "text": [
      "c:\\Users\\shaur\\anaconda3\\envs\\tf-gpu\\lib\\site-packages\\seaborn\\_decorators.py:36: FutureWarning: Pass the following variables as keyword args: x, y. From version 0.12, the only valid positional argument will be `data`, and passing other arguments without an explicit keyword will result in an error or misinterpretation.\n",
      "  warnings.warn(\n"
     ]
    },
    {
     "data": {
      "image/png": "[encoded data removed]",
      "text/plain": [
       "<Figure size 432x288 with 1 Axes>"
      ]
     },
     "metadata": {},
     "output_type": "display_data"
    }
   ],
   "source": [
    "sns.barplot('Embarked', 'Survived', data=train_df, color=\"#2ecc71\")\n",
    "plt.show()"
   ]
  },
  {
   "cell_type": "markdown",
   "metadata": {},
   "source": [
    "## Exploration of Traveling Alone vs. With Family"
   ]
  },
  {
   "cell_type": "code",
   "execution_count": 72,
   "metadata": {},
   "outputs": [
    {
     "name": "stderr",
     "output_type": "stream",
     "text": [
      "c:\\Users\\shaur\\anaconda3\\envs\\tf-gpu\\lib\\site-packages\\seaborn\\_decorators.py:36: FutureWarning: Pass the following variables as keyword args: x, y. From version 0.12, the only valid positional argument will be `data`, and passing other arguments without an explicit keyword will result in an error or misinterpretation.\n",
      "  warnings.warn(\n"
     ]
    },
    {
     "data": {
      "image/png": "[encoded data removed]",
      "text/plain": [
       "<Figure size 432x288 with 1 Axes>"
      ]
     },
     "metadata": {},
     "output_type": "display_data"
    }
   ],
   "source": [
    "sns.barplot('TravelAlone', 'Survived', data=final_train, color=\"#2ecc71\")\n",
    "plt.show()"
   ]
  },
  {
   "cell_type": "markdown",
   "metadata": {},
   "source": [
    "## Individuals traveling without family were more likely to die in the disaster than those with family aboard. Given the era, it's likely that individuals traveling alone were likely male."
   ]
  },
  {
   "cell_type": "markdown",
   "metadata": {},
   "source": [
    "## Logistic Regression"
   ]
  },
  {
   "cell_type": "code",
   "execution_count": 73,
   "metadata": {},
   "outputs": [],
   "source": [
    "cols = ['Age', 'Fare', 'TravelAlone', 'Pclass_1', 'Pclass_2', 'Embarked_C', 'Embarked_S', 'Sex_male', 'IsMinor']\n",
    "X = final_train[cols]\n",
    "Y = final_train['Survived']"
   ]
  },
  {
   "cell_type": "code",
   "execution_count": 74,
   "metadata": {},
   "outputs": [],
   "source": [
    "from scipy import stats\n",
    "import statsmodels.api as sm"
   ]
  },
  {
   "cell_type": "code",
   "execution_count": 75,
   "metadata": {},
   "outputs": [
    {
     "name": "stdout",
     "output_type": "stream",
     "text": [
      "Optimization terminated successfully.\n",
      "         Current function value: 0.450348\n",
      "         Iterations 6\n",
      "\u001b[0;32m                           Logit Regression Results                           \n",
      "==============================================================================\n",
      "Dep. Variable:               Survived   No. Observations:                  891\n",
      "Model:                          Logit   Df Residuals:                      882\n",
      "Method:                           MLE   Df Model:                            8\n",
      "Date:                Tue, 14 Jun 2022   Pseudo R-squ.:                  0.3237\n",
      "Time:                        18:47:58   Log-Likelihood:                -401.26\n",
      "converged:                       True   LL-Null:                       -593.33\n",
      "Covariance Type:            nonrobust   LLR p-value:                 4.627e-78\n",
      "===============================================================================\n",
      "                  coef    std err          z      P>|z|      [0.025      0.975]\n",
      "-------------------------------------------------------------------------------\n",
      "Age            -0.0096      0.007     -1.372      0.170      -0.023       0.004\n",
      "Fare            0.0018      0.002      0.807      0.420      -0.003       0.006\n",
      "TravelAlone     0.3520      0.193      1.828      0.068      -0.025       0.729\n",
      "Pclass_1        2.0491      0.276      7.424      0.000       1.508       2.590\n",
      "Pclass_2        1.2940      0.231      5.593      0.000       0.841       1.747\n",
      "Embarked_C      0.5627      0.317      1.778      0.075      -0.058       1.183\n",
      "Embarked_S      0.0093      0.256      0.036      0.971      -0.492       0.511\n",
      "Sex_male       -2.5915      0.200    -12.979      0.000      -2.983      -2.200\n",
      "IsMinor         1.0566      0.311      3.402      0.001       0.448       1.665\n",
      "===============================================================================\n"
     ]
    }
   ],
   "source": [
    "stats.chisqprob = lambda chisq, df: stats.chi2.sf(chisq, df)\n",
    "logit_model = sm.Logit(Y, X)\n",
    "result = logit_model.fit()\n",
    "sys.stdout.write(GREEN)\n",
    "print(result.summary())"
   ]
  },
  {
   "cell_type": "markdown",
   "metadata": {},
   "source": [
    "## Nearly all variables are significant at the 0.05 alpha level, but we'll run the model again without Fare and TravelAlone (removed one at a time, results didn't change much. In the end removed both). I also removed \"IsMinor\" from this regression, as the information provided is redundant to the Age variable."
   ]
  },
  {
   "cell_type": "code",
   "execution_count": 76,
   "metadata": {},
   "outputs": [
    {
     "name": "stdout",
     "output_type": "stream",
     "text": [
      "Optimization terminated successfully.\n",
      "         Current function value: 0.458585\n",
      "         Iterations 6\n",
      "\u001b[0;32m                           Logit Regression Results                           \n",
      "==============================================================================\n",
      "Dep. Variable:               Survived   No. Observations:                  891\n",
      "Model:                          Logit   Df Residuals:                      885\n",
      "Method:                           MLE   Df Model:                            5\n",
      "Date:                Tue, 14 Jun 2022   Pseudo R-squ.:                  0.3113\n",
      "Time:                        18:47:58   Log-Likelihood:                -408.60\n",
      "converged:                       True   LL-Null:                       -593.33\n",
      "Covariance Type:            nonrobust   LLR p-value:                 1.131e-77\n",
      "==============================================================================\n",
      "                 coef    std err          z      P>|z|      [0.025      0.975]\n",
      "------------------------------------------------------------------------------\n",
      "Age           -0.0158      0.006     -2.602      0.009      -0.028      -0.004\n",
      "Pclass_1       2.0449      0.238      8.604      0.000       1.579       2.511\n",
      "Pclass_2       1.2598      0.226      5.564      0.000       0.816       1.704\n",
      "Embarked_C     1.0698      0.279      3.836      0.000       0.523       1.616\n",
      "Embarked_S     0.5129      0.218      2.350      0.019       0.085       0.941\n",
      "Sex_male      -2.4625      0.187    -13.194      0.000      -2.828      -2.097\n",
      "==============================================================================\n"
     ]
    }
   ],
   "source": [
    "cols2 = ['Age', 'Pclass_1', 'Pclass_2', 'Embarked_C', 'Embarked_S', 'Sex_male']  \n",
    "X2 = df_final[cols2]\n",
    "Y = df_final['Survived']\n",
    "\n",
    "logit_model = sm.Logit(Y,X2)\n",
    "result = logit_model.fit()\n",
    "sys.stdout.write(GREEN)\n",
    "print(result.summary())"
   ]
  },
  {
   "cell_type": "code",
   "execution_count": 77,
   "metadata": {},
   "outputs": [
    {
     "name": "stdout",
     "output_type": "stream",
     "text": [
      "\u001b[0;32mModel Accuracy : 79.12%\n"
     ]
    }
   ],
   "source": [
    "from sklearn.linear_model import LogisticRegression\n",
    "\n",
    "logreg = LogisticRegression()\n",
    "logreg.fit(X2, Y)\n",
    "\n",
    "sys.stdout.write(GREEN)\n",
    "print('Model Accuracy : {:.2f}%'.format(logreg.score(X2, Y)*100))"
   ]
  },
  {
   "cell_type": "markdown",
   "metadata": {},
   "source": [
    "# Using 75 - 25 split for cross validation."
   ]
  },
  {
   "cell_type": "code",
   "execution_count": 78,
   "metadata": {},
   "outputs": [],
   "source": [
    "from sklearn.model_selection import train_test_split\n",
    "train, test = train_test_split(df_final, test_size=0.25)"
   ]
  },
  {
   "cell_type": "code",
   "execution_count": 79,
   "metadata": {},
   "outputs": [],
   "source": [
    "# Re-fit logistic regression on new train sample\n",
    "\n",
    "cols2 = ['Age', 'Pclass_1', 'Pclass_2', 'Embarked_C', 'Embarked_S', 'Sex_male'] \n",
    "X3 = train[cols2]\n",
    "Y3 = train['Survived']\n",
    "logit_model3 = sm.Logit(Y3, X3)"
   ]
  },
  {
   "cell_type": "code",
   "execution_count": 80,
   "metadata": {},
   "outputs": [
    {
     "name": "stdout",
     "output_type": "stream",
     "text": [
      "\u001b[0;32mModel Accuracy : 80.69%\n"
     ]
    }
   ],
   "source": [
    "logreg.fit(X3, Y3)\n",
    "sys.stdout.write(GREEN)\n",
    "print('Model Accuracy : {:.2f}%'.format(logreg.score(X3, Y3)*100))"
   ]
  },
  {
   "cell_type": "markdown",
   "metadata": {},
   "source": [
    "## The score for the new training sample (75% of original) is very close to the original performance, which is good!\n",
    "## Let's assess how well it scores on the 25% testing sample."
   ]
  },
  {
   "cell_type": "code",
   "execution_count": 82,
   "metadata": {},
   "outputs": [
    {
     "name": "stdout",
     "output_type": "stream",
     "text": [
      "\u001b[0;32mAccuracy of logistic regression classifier on test set: 76.23\n"
     ]
    }
   ],
   "source": [
    "# from sklearn import metrics\n",
    "logreg.fit(X3, Y3)\n",
    "\n",
    "X3_test = test[cols2]\n",
    "Y3_test = test['Survived']\n",
    "\n",
    "Y3test_pred = logreg.predict(X3_test)\n",
    "sys.stdout.write(GREEN)\n",
    "print('Accuracy of logistic regression classifier on test set: {:.2f}'.format(logreg.score(X3_test, Y3_test)*100))"
   ]
  },
  {
   "cell_type": "markdown",
   "metadata": {},
   "source": [
    "## Assessing the model's performance based on Cross Validation ROC/AUC"
   ]
  },
  {
   "cell_type": "code",
   "execution_count": 83,
   "metadata": {},
   "outputs": [
    {
     "name": "stdout",
     "output_type": "stream",
     "text": [
      "\u001b[0;32mModel ROC_AUC : 0.79%\n"
     ]
    }
   ],
   "source": [
    "# Model's performance in sample AUC\n",
    "\n",
    "from sklearn.metrics import roc_auc_score\n",
    "Y3_pred = logreg.predict(X3)\n",
    "\n",
    "sys.stdout.write(GREEN)\n",
    "print('Model ROC_AUC : {:.2f}%'.format(roc_auc_score(Y3, Y3_pred)))"
   ]
  },
  {
   "cell_type": "code",
   "execution_count": 84,
   "metadata": {},
   "outputs": [
    {
     "name": "stdout",
     "output_type": "stream",
     "text": [
      "\u001b[0;32mROC AUC: 0.817\n"
     ]
    },
    {
     "data": {
      "image/png": "[encoded data removed]",
      "text/plain": [
       "<Figure size 720x720 with 1 Axes>"
      ]
     },
     "metadata": {},
     "output_type": "display_data"
    }
   ],
   "source": [
    "# Visualizing the model's ROC curve \n",
    "from sklearn.metrics import roc_curve, auc\n",
    "# logreg.fit(X3, Y3)\n",
    "\n",
    "y_test = Y3_test\n",
    "X_test = X3_test\n",
    " \n",
    "# Determine the false positive and true positive rates\n",
    "FPR, TPR, _ = roc_curve(y_test, logreg.predict_proba(X_test)[:,1])\n",
    " \n",
    "# Calculate the AUC\n",
    "sys.stdout.write(GREEN)\n",
    "roc_auc = auc(FPR, TPR)\n",
    "print ('ROC AUC: %0.3f' % roc_auc )\n",
    " \n",
    "# Plot of a ROC curve\n",
    "plt.figure(figsize=(10,10))\n",
    "plt.plot(FPR, TPR, label='ROC curve (area = %0.3f)' % roc_auc)\n",
    "plt.plot([0, 1], [0, 1], 'k--')\n",
    "plt.xlim([-0.05, 1.0])\n",
    "plt.ylim([0.0, 1.05])\n",
    "plt.xlabel('False Positive Rate')\n",
    "plt.ylabel('True Positive Rate')\n",
    "plt.title('ROC Curve (Test Sample Performance)')\n",
    "plt.legend(loc='lower right')\n",
    "plt.show()"
   ]
  },
  {
   "cell_type": "markdown",
   "metadata": {},
   "source": [
    "## An AUC score of 0.5 is effectively as good as the flip of a coin, and means that the model really has no classification power at all between the positive and negative occurences(50-50). The AUC for both the test and train samples when run on logistic regression demonstrates relatively strong power of separation between positive and negative occurences (survived - 1, died - 0)."
   ]
  },
  {
   "cell_type": "markdown",
   "metadata": {},
   "source": [
    "# Logistic Regression Conclusion\n",
    "\n",
    "## Based on the analysis, if you were to be aboard the Titanic, your chances of survival were best if you fit the following criteria:\n",
    "### 1) Female\n",
    "### 2) Young\n",
    "### 3) In First Class\n",
    "### 4) Embarked in Cherbourg France\n",
    "\n"
   ]
  },
  {
   "cell_type": "markdown",
   "metadata": {},
   "source": [
    "# Decision Trees\n",
    "## Let's try using a decision tree. There is a tradeoff for the additional complexity of utilizing a decision tree as compared to a logistic regression: Growing the tree to its complete depth can subject your model to overfitting and reduce the predictive power of the model. Therefore set the parameters within the DecisionTreeClassifier from sklearn to help make sure my model is not overfit (too many branches based on the train data). Some trial and error went into this to determine the optimal number of branches to \"prune\" to achieve strong out-of-sample results.\n",
    "\n",
    "## Note: The same variables are used for the decision tree as in the first logistic regression model."
   ]
  },
  {
   "cell_type": "code",
   "execution_count": null,
   "metadata": {},
   "outputs": [],
   "source": [
    "from sklearn import tree"
   ]
  },
  {
   "cell_type": "code",
   "execution_count": null,
   "metadata": {},
   "outputs": [],
   "source": [
    "tree1 = tree.DecisionTreeClassifier(criterion='gini', splitter='best', max_depth=3, min_samples_leaf=20)"
   ]
  },
  {
   "cell_type": "code",
   "execution_count": null,
   "metadata": {},
   "outputs": [
    {
     "data": {
      "text/plain": [
       "DecisionTreeClassifier(max_depth=3, min_samples_leaf=20)"
      ]
     },
     "execution_count": 41,
     "metadata": {},
     "output_type": "execute_result"
    }
   ],
   "source": [
    "cols=['Age', 'Fare', 'TravelAlone', 'Pclass_1', 'Pclass_2', 'Embarked_C', 'Embarked_S', 'Sex_male', 'IsMinor'] \n",
    "\n",
    "X_DT = df_final[cols]\n",
    "Y_DT = df_final['Survived']\n",
    "\n",
    "tree1.fit(X_DT, Y_DT)"
   ]
  },
  {
   "cell_type": "code",
   "execution_count": null,
   "metadata": {},
   "outputs": [
    {
     "data": {
      "text/plain": [
       "[Text(453.375, 713.475, 'X[7] <= 0.5\\ngini = 0.473\\nsamples = 891\\nvalue = [549, 342]'),\n",
       " Text(279.0, 509.625, 'X[3] <= 0.5\\ngini = 0.383\\nsamples = 314\\nvalue = [81, 233]'),\n",
       " Text(139.5, 305.775, 'X[4] <= 0.5\\ngini = 0.458\\nsamples = 220\\nvalue = [78, 142]'),\n",
       " Text(69.75, 101.92499999999995, 'gini = 0.5\\nsamples = 144\\nvalue = [72, 72]'),\n",
       " Text(209.25, 101.92499999999995, 'gini = 0.145\\nsamples = 76\\nvalue = [6, 70]'),\n",
       " Text(418.5, 305.775, 'X[1] <= 141.077\\ngini = 0.062\\nsamples = 94\\nvalue = [3, 91]'),\n",
       " Text(348.75, 101.92499999999995, 'gini = 0.027\\nsamples = 73\\nvalue = [1, 72]'),\n",
       " Text(488.25, 101.92499999999995, 'gini = 0.172\\nsamples = 21\\nvalue = [2, 19]'),\n",
       " Text(627.75, 509.625, 'X[0] <= 6.5\\ngini = 0.306\\nsamples = 577\\nvalue = [468, 109]'),\n",
       " Text(558.0, 305.775, 'gini = 0.444\\nsamples = 24\\nvalue = [8, 16]'),\n",
       " Text(697.5, 305.775, 'X[3] <= 0.5\\ngini = 0.28\\nsamples = 553\\nvalue = [460, 93]'),\n",
       " Text(627.75, 101.92499999999995, 'gini = 0.204\\nsamples = 433\\nvalue = [383, 50]'),\n",
       " Text(767.25, 101.92499999999995, 'gini = 0.46\\nsamples = 120\\nvalue = [77, 43]')]"
      ]
     },
     "execution_count": 42,
     "metadata": {},
     "output_type": "execute_result"
    },
    {
     "data": {
      "image/png": "[encoded data removed]",
      "text/plain": [
       "<Figure size 1080x1080 with 1 Axes>"
      ]
     },
     "metadata": {},
     "output_type": "display_data"
    }
   ],
   "source": [
    "plt.figure(figsize=(15, 15))\n",
    "tree.plot_tree(tree1, filled=True)"
   ]
  },
  {
   "cell_type": "markdown",
   "metadata": {},
   "source": [
    "## Using graphviz"
   ]
  },
  {
   "cell_type": "code",
   "execution_count": null,
   "metadata": {},
   "outputs": [
    {
     "data": {
      "image/svg+xml": "<?xml version=\"1.0\" encoding=\"UTF-8\" standalone=\"no\"?>\r\n<!DOCTYPE svg PUBLIC \"-//W3C//DTD SVG 1.1//EN\"\r\n \"http://www.w3.org/Graphics/SVG/1.1/DTD/svg11.dtd\">\r\n<!-- Generated by graphviz version 2.49.2 (20211016.1639)\r\n -->\r\n<!-- Title: Tree Pages: 1 -->\r\n<svg width=\"574pt\" height=\"440pt\"\r\n viewBox=\"0.00 0.00 574.00 440.00\" xmlns=\"http://www.w3.org/2000/svg\" xmlns:xlink=\"http://www.w3.org/1999/xlink\">\r\n<g id=\"graph0\" class=\"graph\" transform=\"scale(1 1) rotate(0) translate(4 436)\">\r\n<title>Tree</title>\r\n<polygon fill=\"white\" stroke=\"transparent\" points=\"-4,4 -4,-436 570,-436 570,4 -4,4\"/>\r\n<!-- 0 -->\r\n<g id=\"node1\" class=\"node\">\r\n<title>0</title>\r\n<polygon fill=\"none\" stroke=\"black\" points=\"118,-245.5 0,-245.5 0,-177.5 118,-177.5 118,-245.5\"/>\r\n<text text-anchor=\"middle\" x=\"59\" y=\"-230.3\" font-family=\"Times New Roman,serif\" font-size=\"14.00\">Sex_male &lt;= 0.5</text>\r\n<text text-anchor=\"middle\" x=\"59\" y=\"-215.3\" font-family=\"Times New Roman,serif\" font-size=\"14.00\">gini = 0.473</text>\r\n<text text-anchor=\"middle\" x=\"59\" y=\"-200.3\" font-family=\"Times New Roman,serif\" font-size=\"14.00\">samples = 891</text>\r\n<text text-anchor=\"middle\" x=\"59\" y=\"-185.3\" font-family=\"Times New Roman,serif\" font-size=\"14.00\">value = [549, 342]</text>\r\n</g>\r\n<!-- 1 -->\r\n<g id=\"node2\" class=\"node\">\r\n<title>1</title>\r\n<polygon fill=\"none\" stroke=\"black\" points=\"268.5,-288.5 157.5,-288.5 157.5,-220.5 268.5,-220.5 268.5,-288.5\"/>\r\n<text text-anchor=\"middle\" x=\"213\" y=\"-273.3\" font-family=\"Times New Roman,serif\" font-size=\"14.00\">Pclass_1 &lt;= 0.5</text>\r\n<text text-anchor=\"middle\" x=\"213\" y=\"-258.3\" font-family=\"Times New Roman,serif\" font-size=\"14.00\">gini = 0.383</text>\r\n<text text-anchor=\"middle\" x=\"213\" y=\"-243.3\" font-family=\"Times New Roman,serif\" font-size=\"14.00\">samples = 314</text>\r\n<text text-anchor=\"middle\" x=\"213\" y=\"-228.3\" font-family=\"Times New Roman,serif\" font-size=\"14.00\">value = [81, 233]</text>\r\n</g>\r\n<!-- 0&#45;&gt;1 -->\r\n<g id=\"edge1\" class=\"edge\">\r\n<title>0&#45;&gt;1</title>\r\n<path fill=\"none\" stroke=\"black\" d=\"M118.33,-228C127.78,-230.67 137.61,-233.45 147.19,-236.17\"/>\r\n<polygon fill=\"black\" stroke=\"black\" points=\"146.5,-239.61 157.07,-238.96 148.4,-232.87 146.5,-239.61\"/>\r\n<text text-anchor=\"middle\" x=\"135.25\" y=\"-247.46\" font-family=\"Times New Roman,serif\" font-size=\"14.00\">True</text>\r\n</g>\r\n<!-- 8 -->\r\n<g id=\"node9\" class=\"node\">\r\n<title>8</title>\r\n<polygon fill=\"none\" stroke=\"black\" points=\"272,-202.5 154,-202.5 154,-134.5 272,-134.5 272,-202.5\"/>\r\n<text text-anchor=\"middle\" x=\"213\" y=\"-187.3\" font-family=\"Times New Roman,serif\" font-size=\"14.00\">Age &lt;= 6.5</text>\r\n<text text-anchor=\"middle\" x=\"213\" y=\"-172.3\" font-family=\"Times New Roman,serif\" font-size=\"14.00\">gini = 0.306</text>\r\n<text text-anchor=\"middle\" x=\"213\" y=\"-157.3\" font-family=\"Times New Roman,serif\" font-size=\"14.00\">samples = 577</text>\r\n<text text-anchor=\"middle\" x=\"213\" y=\"-142.3\" font-family=\"Times New Roman,serif\" font-size=\"14.00\">value = [468, 109]</text>\r\n</g>\r\n<!-- 0&#45;&gt;8 -->\r\n<g id=\"edge8\" class=\"edge\">\r\n<title>0&#45;&gt;8</title>\r\n<path fill=\"none\" stroke=\"black\" d=\"M118.33,-195C126.79,-192.61 135.55,-190.13 144.17,-187.69\"/>\r\n<polygon fill=\"black\" stroke=\"black\" points=\"145.15,-191.05 153.82,-184.96 143.25,-184.31 145.15,-191.05\"/>\r\n<text text-anchor=\"middle\" x=\"132\" y=\"-169.06\" font-family=\"Times New Roman,serif\" font-size=\"14.00\">False</text>\r\n</g>\r\n<!-- 2 -->\r\n<g id=\"node3\" class=\"node\">\r\n<title>2</title>\r\n<polygon fill=\"none\" stroke=\"black\" points=\"419,-372.5 308,-372.5 308,-304.5 419,-304.5 419,-372.5\"/>\r\n<text text-anchor=\"middle\" x=\"363.5\" y=\"-357.3\" font-family=\"Times New Roman,serif\" font-size=\"14.00\">Pclass_2 &lt;= 0.5</text>\r\n<text text-anchor=\"middle\" x=\"363.5\" y=\"-342.3\" font-family=\"Times New Roman,serif\" font-size=\"14.00\">gini = 0.458</text>\r\n<text text-anchor=\"middle\" x=\"363.5\" y=\"-327.3\" font-family=\"Times New Roman,serif\" font-size=\"14.00\">samples = 220</text>\r\n<text text-anchor=\"middle\" x=\"363.5\" y=\"-312.3\" font-family=\"Times New Roman,serif\" font-size=\"14.00\">value = [78, 142]</text>\r\n</g>\r\n<!-- 1&#45;&gt;2 -->\r\n<g id=\"edge2\" class=\"edge\">\r\n<title>1&#45;&gt;2</title>\r\n<path fill=\"none\" stroke=\"black\" d=\"M268.87,-285.54C278.71,-291.11 289.04,-296.95 299.1,-302.64\"/>\r\n<polygon fill=\"black\" stroke=\"black\" points=\"297.42,-305.71 307.85,-307.59 300.87,-299.62 297.42,-305.71\"/>\r\n</g>\r\n<!-- 5 -->\r\n<g id=\"node6\" class=\"node\">\r\n<title>5</title>\r\n<polygon fill=\"none\" stroke=\"black\" points=\"418.5,-286.5 308.5,-286.5 308.5,-218.5 418.5,-218.5 418.5,-286.5\"/>\r\n<text text-anchor=\"middle\" x=\"363.5\" y=\"-271.3\" font-family=\"Times New Roman,serif\" font-size=\"14.00\">Fare &lt;= 141.077</text>\r\n<text text-anchor=\"middle\" x=\"363.5\" y=\"-256.3\" font-family=\"Times New Roman,serif\" font-size=\"14.00\">gini = 0.062</text>\r\n<text text-anchor=\"middle\" x=\"363.5\" y=\"-241.3\" font-family=\"Times New Roman,serif\" font-size=\"14.00\">samples = 94</text>\r\n<text text-anchor=\"middle\" x=\"363.5\" y=\"-226.3\" font-family=\"Times New Roman,serif\" font-size=\"14.00\">value = [3, 91]</text>\r\n</g>\r\n<!-- 1&#45;&gt;5 -->\r\n<g id=\"edge5\" class=\"edge\">\r\n<title>1&#45;&gt;5</title>\r\n<path fill=\"none\" stroke=\"black\" d=\"M268.87,-253.76C278.44,-253.63 288.47,-253.5 298.26,-253.37\"/>\r\n<polygon fill=\"black\" stroke=\"black\" points=\"298.39,-256.86 308.35,-253.23 298.3,-249.86 298.39,-256.86\"/>\r\n</g>\r\n<!-- 3 -->\r\n<g id=\"node4\" class=\"node\">\r\n<title>3</title>\r\n<polygon fill=\"none\" stroke=\"black\" points=\"562.5,-432 458.5,-432 458.5,-379 562.5,-379 562.5,-432\"/>\r\n<text text-anchor=\"middle\" x=\"510.5\" y=\"-416.8\" font-family=\"Times New Roman,serif\" font-size=\"14.00\">gini = 0.5</text>\r\n<text text-anchor=\"middle\" x=\"510.5\" y=\"-401.8\" font-family=\"Times New Roman,serif\" font-size=\"14.00\">samples = 144</text>\r\n<text text-anchor=\"middle\" x=\"510.5\" y=\"-386.8\" font-family=\"Times New Roman,serif\" font-size=\"14.00\">value = [72, 72]</text>\r\n</g>\r\n<!-- 2&#45;&gt;3 -->\r\n<g id=\"edge3\" class=\"edge\">\r\n<title>2&#45;&gt;3</title>\r\n<path fill=\"none\" stroke=\"black\" d=\"M419.32,-363.83C429.04,-368.32 439.22,-373.03 449.09,-377.58\"/>\r\n<polygon fill=\"black\" stroke=\"black\" points=\"447.88,-380.88 458.43,-381.9 450.82,-374.53 447.88,-380.88\"/>\r\n</g>\r\n<!-- 4 -->\r\n<g id=\"node5\" class=\"node\">\r\n<title>4</title>\r\n<polygon fill=\"none\" stroke=\"black\" points=\"559.5,-361 461.5,-361 461.5,-308 559.5,-308 559.5,-361\"/>\r\n<text text-anchor=\"middle\" x=\"510.5\" y=\"-345.8\" font-family=\"Times New Roman,serif\" font-size=\"14.00\">gini = 0.145</text>\r\n<text text-anchor=\"middle\" x=\"510.5\" y=\"-330.8\" font-family=\"Times New Roman,serif\" font-size=\"14.00\">samples = 76</text>\r\n<text text-anchor=\"middle\" x=\"510.5\" y=\"-315.8\" font-family=\"Times New Roman,serif\" font-size=\"14.00\">value = [6, 70]</text>\r\n</g>\r\n<!-- 2&#45;&gt;4 -->\r\n<g id=\"edge4\" class=\"edge\">\r\n<title>2&#45;&gt;4</title>\r\n<path fill=\"none\" stroke=\"black\" d=\"M419.32,-336.99C429.66,-336.7 440.52,-336.4 450.98,-336.11\"/>\r\n<polygon fill=\"black\" stroke=\"black\" points=\"451.36,-339.61 461.26,-335.83 451.17,-332.61 451.36,-339.61\"/>\r\n</g>\r\n<!-- 6 -->\r\n<g id=\"node7\" class=\"node\">\r\n<title>6</title>\r\n<polygon fill=\"none\" stroke=\"black\" points=\"559.5,-283 461.5,-283 461.5,-230 559.5,-230 559.5,-283\"/>\r\n<text text-anchor=\"middle\" x=\"510.5\" y=\"-267.8\" font-family=\"Times New Roman,serif\" font-size=\"14.00\">gini = 0.027</text>\r\n<text text-anchor=\"middle\" x=\"510.5\" y=\"-252.8\" font-family=\"Times New Roman,serif\" font-size=\"14.00\">samples = 73</text>\r\n<text text-anchor=\"middle\" x=\"510.5\" y=\"-237.8\" font-family=\"Times New Roman,serif\" font-size=\"14.00\">value = [1, 72]</text>\r\n</g>\r\n<!-- 5&#45;&gt;6 -->\r\n<g id=\"edge6\" class=\"edge\">\r\n<title>5&#45;&gt;6</title>\r\n<path fill=\"none\" stroke=\"black\" d=\"M418.91,-254C429.5,-254.29 440.65,-254.6 451.36,-254.9\"/>\r\n<polygon fill=\"black\" stroke=\"black\" points=\"451.37,-258.4 461.46,-255.17 451.56,-251.4 451.37,-258.4\"/>\r\n</g>\r\n<!-- 7 -->\r\n<g id=\"node8\" class=\"node\">\r\n<title>7</title>\r\n<polygon fill=\"none\" stroke=\"black\" points=\"559.5,-212 461.5,-212 461.5,-159 559.5,-159 559.5,-212\"/>\r\n<text text-anchor=\"middle\" x=\"510.5\" y=\"-196.8\" font-family=\"Times New Roman,serif\" font-size=\"14.00\">gini = 0.172</text>\r\n<text text-anchor=\"middle\" x=\"510.5\" y=\"-181.8\" font-family=\"Times New Roman,serif\" font-size=\"14.00\">samples = 21</text>\r\n<text text-anchor=\"middle\" x=\"510.5\" y=\"-166.8\" font-family=\"Times New Roman,serif\" font-size=\"14.00\">value = [2, 19]</text>\r\n</g>\r\n<!-- 5&#45;&gt;7 -->\r\n<g id=\"edge7\" class=\"edge\">\r\n<title>5&#45;&gt;7</title>\r\n<path fill=\"none\" stroke=\"black\" d=\"M418.91,-227.36C429.83,-222.31 441.34,-217 452.35,-211.91\"/>\r\n<polygon fill=\"black\" stroke=\"black\" points=\"453.85,-215.07 461.46,-207.7 450.92,-208.71 453.85,-215.07\"/>\r\n</g>\r\n<!-- 9 -->\r\n<g id=\"node10\" class=\"node\">\r\n<title>9</title>\r\n<polygon fill=\"none\" stroke=\"black\" points=\"412.5,-197 314.5,-197 314.5,-144 412.5,-144 412.5,-197\"/>\r\n<text text-anchor=\"middle\" x=\"363.5\" y=\"-181.8\" font-family=\"Times New Roman,serif\" font-size=\"14.00\">gini = 0.444</text>\r\n<text text-anchor=\"middle\" x=\"363.5\" y=\"-166.8\" font-family=\"Times New Roman,serif\" font-size=\"14.00\">samples = 24</text>\r\n<text text-anchor=\"middle\" x=\"363.5\" y=\"-151.8\" font-family=\"Times New Roman,serif\" font-size=\"14.00\">value = [8, 16]</text>\r\n</g>\r\n<!-- 8&#45;&gt;9 -->\r\n<g id=\"edge9\" class=\"edge\">\r\n<title>8&#45;&gt;9</title>\r\n<path fill=\"none\" stroke=\"black\" d=\"M272.26,-169.28C282.75,-169.43 293.68,-169.57 304.16,-169.71\"/>\r\n<polygon fill=\"black\" stroke=\"black\" points=\"304.42,-173.22 314.46,-169.85 304.51,-166.22 304.42,-173.22\"/>\r\n</g>\r\n<!-- 10 -->\r\n<g id=\"node11\" class=\"node\">\r\n<title>10</title>\r\n<polygon fill=\"none\" stroke=\"black\" points=\"419,-125.5 308,-125.5 308,-57.5 419,-57.5 419,-125.5\"/>\r\n<text text-anchor=\"middle\" x=\"363.5\" y=\"-110.3\" font-family=\"Times New Roman,serif\" font-size=\"14.00\">Pclass_1 &lt;= 0.5</text>\r\n<text text-anchor=\"middle\" x=\"363.5\" y=\"-95.3\" font-family=\"Times New Roman,serif\" font-size=\"14.00\">gini = 0.28</text>\r\n<text text-anchor=\"middle\" x=\"363.5\" y=\"-80.3\" font-family=\"Times New Roman,serif\" font-size=\"14.00\">samples = 553</text>\r\n<text text-anchor=\"middle\" x=\"363.5\" y=\"-65.3\" font-family=\"Times New Roman,serif\" font-size=\"14.00\">value = [460, 93]</text>\r\n</g>\r\n<!-- 8&#45;&gt;10 -->\r\n<g id=\"edge10\" class=\"edge\">\r\n<title>8&#45;&gt;10</title>\r\n<path fill=\"none\" stroke=\"black\" d=\"M272.26,-138.29C280.95,-133.79 289.94,-129.12 298.73,-124.57\"/>\r\n<polygon fill=\"black\" stroke=\"black\" points=\"300.53,-127.57 307.8,-119.86 297.31,-121.36 300.53,-127.57\"/>\r\n</g>\r\n<!-- 11 -->\r\n<g id=\"node12\" class=\"node\">\r\n<title>11</title>\r\n<polygon fill=\"none\" stroke=\"black\" points=\"566,-124 455,-124 455,-71 566,-71 566,-124\"/>\r\n<text text-anchor=\"middle\" x=\"510.5\" y=\"-108.8\" font-family=\"Times New Roman,serif\" font-size=\"14.00\">gini = 0.204</text>\r\n<text text-anchor=\"middle\" x=\"510.5\" y=\"-93.8\" font-family=\"Times New Roman,serif\" font-size=\"14.00\">samples = 433</text>\r\n<text text-anchor=\"middle\" x=\"510.5\" y=\"-78.8\" font-family=\"Times New Roman,serif\" font-size=\"14.00\">value = [383, 50]</text>\r\n</g>\r\n<!-- 10&#45;&gt;11 -->\r\n<g id=\"edge11\" class=\"edge\">\r\n<title>10&#45;&gt;11</title>\r\n<path fill=\"none\" stroke=\"black\" d=\"M419.32,-93.77C427.53,-94.11 436.06,-94.46 444.46,-94.81\"/>\r\n<polygon fill=\"black\" stroke=\"black\" points=\"444.47,-98.31 454.6,-95.23 444.76,-91.32 444.47,-98.31\"/>\r\n</g>\r\n<!-- 12 -->\r\n<g id=\"node13\" class=\"node\">\r\n<title>12</title>\r\n<polygon fill=\"none\" stroke=\"black\" points=\"562.5,-53 458.5,-53 458.5,0 562.5,0 562.5,-53\"/>\r\n<text text-anchor=\"middle\" x=\"510.5\" y=\"-37.8\" font-family=\"Times New Roman,serif\" font-size=\"14.00\">gini = 0.46</text>\r\n<text text-anchor=\"middle\" x=\"510.5\" y=\"-22.8\" font-family=\"Times New Roman,serif\" font-size=\"14.00\">samples = 120</text>\r\n<text text-anchor=\"middle\" x=\"510.5\" y=\"-7.8\" font-family=\"Times New Roman,serif\" font-size=\"14.00\">value = [77, 43]</text>\r\n</g>\r\n<!-- 10&#45;&gt;12 -->\r\n<g id=\"edge12\" class=\"edge\">\r\n<title>10&#45;&gt;12</title>\r\n<path fill=\"none\" stroke=\"black\" d=\"M419.32,-66.93C429.04,-62.57 439.22,-58.01 449.09,-53.58\"/>\r\n<polygon fill=\"black\" stroke=\"black\" points=\"450.74,-56.68 458.43,-49.39 447.87,-50.29 450.74,-56.68\"/>\r\n</g>\r\n</g>\r\n</svg>\r\n",
      "text/plain": [
       "<graphviz.files.Source at 0x229783259d0>"
      ]
     },
     "execution_count": 43,
     "metadata": {},
     "output_type": "execute_result"
    }
   ],
   "source": [
    "import graphviz\n",
    "\n",
    "tree1_view = tree.export_graphviz(tree1, out_file=None, feature_names=X_DT.columns.values, rotate=True) \n",
    "tree1viz = graphviz.Source(tree1_view)\n",
    "tree1viz"
   ]
  },
  {
   "cell_type": "markdown",
   "metadata": {},
   "source": [
    "# Random Forest Estimation\n",
    "## Random forests, a tree-based machine learning technique, often provide more accurate results than Logistic Regression classifier models.\n",
    "\n",
    "## A random forest is an estimator that fits a number of decision tree classifiers on various sub-samples of the dataset and uses averaging to improve the predictive accuracy and control over-fitting."
   ]
  },
  {
   "cell_type": "code",
   "execution_count": null,
   "metadata": {},
   "outputs": [],
   "source": [
    "from sklearn.ensemble import RandomForestClassifier"
   ]
  },
  {
   "cell_type": "code",
   "execution_count": null,
   "metadata": {},
   "outputs": [],
   "source": [
    "X_DT = df_final[cols]\n",
    "Y_DT = df_final['Survived']\n",
    "\n",
    "tree1.fit(X_DT, Y_DT)"
   ]
  },
  {
   "cell_type": "code",
   "execution_count": null,
   "metadata": {},
   "outputs": [
    {
     "name": "stdout",
     "output_type": "stream",
     "text": [
      "\u001b[0;32mROC AUC: 0.980\n"
     ]
    }
   ],
   "source": [
    "cols = ['Age', 'Fare', 'TravelAlone', 'Pclass_1', 'Pclass_2', 'Embarked_C', 'Embarked_S', 'Sex_male', 'IsMinor'] \n",
    "X = df_final[cols]\n",
    "Y = df_final['Survived']\n",
    "\n",
    "random_forest = RandomForestClassifier(n_estimators=100)\n",
    "random_forest.fit(X, Y)\n",
    "sys.stdout.write(GREEN)\n",
    "print ('ROC AUC: %0.3f' % random_forest.score(X, Y))"
   ]
  },
  {
   "cell_type": "markdown",
   "metadata": {},
   "source": [
    "## Test Scores "
   ]
  },
  {
   "cell_type": "code",
   "execution_count": null,
   "metadata": {},
   "outputs": [],
   "source": [
    "final_test_RF = test[cols]\n",
    "final_Y = test['Survived']\n",
    "Y_pred_RF = random_forest.predict(final_test_RF)"
   ]
  },
  {
   "cell_type": "code",
   "execution_count": null,
   "metadata": {},
   "outputs": [
    {
     "name": "stdout",
     "output_type": "stream",
     "text": [
      "\u001b[0;32mModel ROC_AUC : 0.97%\n"
     ]
    }
   ],
   "source": [
    "sys.stdout.write(GREEN)\n",
    "print(\"Model ROC_AUC : {:.2f}%\".format(roc_auc_score(final_Y, Y_pred_RF)))"
   ]
  },
  {
   "cell_type": "code",
   "execution_count": null,
   "metadata": {},
   "outputs": [],
   "source": []
  },
  {
   "cell_type": "code",
   "execution_count": null,
   "metadata": {},
   "outputs": [],
   "source": []
  },
  {
   "cell_type": "code",
   "execution_count": null,
   "metadata": {},
   "outputs": [],
   "source": []
  },
  {
   "cell_type": "markdown",
   "metadata": {},
   "source": [
    "# Random Practice (Post Credits :P)"
   ]
  },
  {
   "cell_type": "code",
   "execution_count": null,
   "metadata": {},
   "outputs": [],
   "source": [
    "def find_max(nums):\n",
    "    max_num = float(\"-inf\") # smaller than all other numbers\n",
    "    # for num in nums:\n",
    "    #     if num > max_num:\n",
    "    #         # (Fill in the missing line here)\n",
    "    return max_num"
   ]
  },
  {
   "cell_type": "code",
   "execution_count": null,
   "metadata": {},
   "outputs": [
    {
     "data": {
      "text/plain": [
       "-inf"
      ]
     },
     "execution_count": 46,
     "metadata": {},
     "output_type": "execute_result"
    }
   ],
   "source": [
    "find_max(5)"
   ]
  },
  {
   "cell_type": "code",
   "execution_count": 85,
   "metadata": {},
   "outputs": [
    {
     "name": "stdout",
     "output_type": "stream",
     "text": [
      "{'c', 'b', 'a'}\n",
      "{'san', 'c', 'q', 'p', 'b', 'a'}\n"
     ]
    }
   ],
   "source": [
    "z = set('abc')\n",
    "print(z)\n",
    "z.add('san')\n",
    "z.update(set(['p','q']))\n",
    "print(z)"
   ]
  },
  {
   "cell_type": "code",
   "execution_count": null,
   "metadata": {},
   "outputs": [
    {
     "name": "stdout",
     "output_type": "stream",
     "text": [
      "512 64 512\n"
     ]
    }
   ],
   "source": [
    "print(2**(3**2), (2**3)**2, (2**3)**3)"
   ]
  },
  {
   "cell_type": "code",
   "execution_count": null,
   "metadata": {},
   "outputs": [],
   "source": [
    "candy={\n",
    "    \"name\": 'bv',\n",
    "    \"class\": 8\n",
    "}"
   ]
  },
  {
   "cell_type": "code",
   "execution_count": null,
   "metadata": {},
   "outputs": [
    {
     "data": {
      "text/plain": [
       "8"
      ]
     },
     "execution_count": 50,
     "metadata": {},
     "output_type": "execute_result"
    }
   ],
   "source": [
    "candy['class']"
   ]
  },
  {
   "cell_type": "code",
   "execution_count": 87,
   "metadata": {},
   "outputs": [],
   "source": [
    "skills = ['a', 'c']\n",
    "skills.insert(1, 'b')"
   ]
  },
  {
   "cell_type": "code",
   "execution_count": 88,
   "metadata": {},
   "outputs": [
    {
     "data": {
      "text/plain": [
       "['a', 'b', 'c']"
      ]
     },
     "execution_count": 88,
     "metadata": {},
     "output_type": "execute_result"
    }
   ],
   "source": [
    "skills"
   ]
  },
  {
   "cell_type": "code",
   "execution_count": 90,
   "metadata": {},
   "outputs": [
    {
     "data": {
      "text/plain": [
       "['a', 'b', 'c', 'd']"
      ]
     },
     "execution_count": 90,
     "metadata": {},
     "output_type": "execute_result"
    }
   ],
   "source": [
    "skills.append('d')\n",
    "skills"
   ]
  },
  {
   "cell_type": "code",
   "execution_count": 91,
   "metadata": {},
   "outputs": [
    {
     "name": "stdout",
     "output_type": "stream",
     "text": [
      "a-b-c-d\n"
     ]
    }
   ],
   "source": [
    "print('-'.join(skills))"
   ]
  },
  {
   "cell_type": "code",
   "execution_count": null,
   "metadata": {},
   "outputs": [
    {
     "data": {
      "text/plain": [
       "['a', 'b', 'c', 'd']"
      ]
     },
     "execution_count": 54,
     "metadata": {},
     "output_type": "execute_result"
    }
   ],
   "source": [
    "newsk = skills.copy()\n",
    "newsk"
   ]
  },
  {
   "cell_type": "code",
   "execution_count": null,
   "metadata": {},
   "outputs": [
    {
     "data": {
      "text/plain": [
       "['a', 'b', 'c', 'd']"
      ]
     },
     "execution_count": 55,
     "metadata": {},
     "output_type": "execute_result"
    }
   ],
   "source": [
    "sk2 = list(skills)\n",
    "sk2"
   ]
  },
  {
   "cell_type": "code",
   "execution_count": null,
   "metadata": {},
   "outputs": [
    {
     "name": "stdout",
     "output_type": "stream",
     "text": [
      "False\n"
     ]
    }
   ],
   "source": [
    "print([1,2,3]==[3,2,1])"
   ]
  },
  {
   "cell_type": "code",
   "execution_count": null,
   "metadata": {},
   "outputs": [
    {
     "name": "stdout",
     "output_type": "stream",
     "text": [
      "['t', 'u', 'r']\n"
     ]
    }
   ],
   "source": [
    "print([i.lower() for i in 'TUR'])"
   ]
  },
  {
   "cell_type": "code",
   "execution_count": null,
   "metadata": {},
   "outputs": [
    {
     "data": {
      "text/plain": [
       "['a', 3]"
      ]
     },
     "execution_count": 21,
     "metadata": {},
     "output_type": "execute_result"
    }
   ],
   "source": [
    "c = ['a', 3]\n",
    "c"
   ]
  },
  {
   "cell_type": "code",
   "execution_count": null,
   "metadata": {},
   "outputs": [
    {
     "name": "stdout",
     "output_type": "stream",
     "text": [
      "[1, 3, 6, 10]\n"
     ]
    }
   ],
   "source": [
    "A = [1, 2, 3, 4]\n",
    "B = [sum(A[0:x+1]) for x in range(0, len(A))]\n",
    "print(B)"
   ]
  },
  {
   "cell_type": "code",
   "execution_count": 105,
   "metadata": {},
   "outputs": [
    {
     "name": "stdout",
     "output_type": "stream",
     "text": [
      "50\n"
     ]
    }
   ],
   "source": [
    "def fun1():\n",
    "    x = 50 \n",
    "    return x\n",
    "t = fun1()\n",
    "print(t)"
   ]
  },
  {
   "cell_type": "code",
   "execution_count": 107,
   "metadata": {},
   "outputs": [
    {
     "name": "stdout",
     "output_type": "stream",
     "text": [
      "[2, 3, 4]\n"
     ]
    }
   ],
   "source": [
    "dat = [1,2,3]\n",
    "def incr(x):\n",
    "    return x + 1\n",
    "\n",
    "# print(list(map(incr, dat)))\n",
    "print(list(map(incr, dat)))"
   ]
  },
  {
   "cell_type": "code",
   "execution_count": 101,
   "metadata": {},
   "outputs": [
    {
     "name": "stdout",
     "output_type": "stream",
     "text": [
      "Welcome to the jungle\n"
     ]
    }
   ],
   "source": [
    "t = '%(a)s %(b)s %(c)s %(d)s'\n",
    "print(t % dict(a='Welcome', b='to', c='the', d='jungle'))"
   ]
  },
  {
   "cell_type": "code",
   "execution_count": 104,
   "metadata": {},
   "outputs": [
    {
     "name": "stdout",
     "output_type": "stream",
     "text": [
      "A\n",
      "B\n",
      "C\n",
      "S\n",
      "abcs\n"
     ]
    }
   ],
   "source": [
    "al = 'abcs'\n",
    "for i in range(len(al)):\n",
    "    print(al[i].upper())\n",
    "print(al)"
   ]
  },
  {
   "cell_type": "code",
   "execution_count": 102,
   "metadata": {},
   "outputs": [
    {
     "data": {
      "text/plain": [
       "'The bright side of life'"
      ]
     },
     "execution_count": 102,
     "metadata": {},
     "output_type": "execute_result"
    }
   ],
   "source": [
    "'The {} side {} {}'.format('bright', 'of', 'life')"
   ]
  },
  {
   "cell_type": "code",
   "execution_count": null,
   "metadata": {},
   "outputs": [
    {
     "name": "stdout",
     "output_type": "stream",
     "text": [
      "[2, 5, 6]\n"
     ]
    }
   ],
   "source": [
    "Y = [2, 5, 6]\n",
    "Y.sort()\n",
    "print(Y)"
   ]
  },
  {
   "cell_type": "code",
   "execution_count": 1,
   "metadata": {},
   "outputs": [
    {
     "name": "stdout",
     "output_type": "stream",
     "text": [
      "This is my world\n"
     ]
    }
   ],
   "source": [
    "print('this is my world'.capitalize())"
   ]
  }
 ],
 "metadata": {
  "kernelspec": {
   "display_name": "Python 3.9.7 ('tf-gpu')",
   "language": "python",
   "name": "python3"
  },
  "language_info": {
   "codemirror_mode": {
    "name": "ipython",
    "version": 3
   },
   "file_extension": ".py",
   "mimetype": "text/x-python",
   "name": "python",
   "nbconvert_exporter": "python",
   "pygments_lexer": "ipython3",
   "version": "3.9.7"
  },
  "orig_nbformat": 4,
  "vscode": {
   "interpreter": {
    "hash": "87c12a83bb5f06aec570590579e70836bd996015778f1b32b20fd39c41670633"
   }
  }
 },
 "nbformat": 4,
 "nbformat_minor": 2
}
